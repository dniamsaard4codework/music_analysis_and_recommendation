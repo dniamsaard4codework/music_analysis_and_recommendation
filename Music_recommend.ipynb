{
 "cells": [
  {
   "cell_type": "markdown",
   "metadata": {},
   "source": [
    "# Music Recommendation System\n",
    "## Dechathon Niamsa-ard"
   ]
  },
  {
   "cell_type": "markdown",
   "metadata": {},
   "source": [
    "1. Collecting Data from Spotify\n",
    "2. Data Preprocessing "
   ]
  },
  {
   "cell_type": "code",
   "execution_count": 16,
   "metadata": {},
   "outputs": [],
   "source": [
    "# Import all necessary libraries\n",
    "import numpy as np\n",
    "import pandas as pd\n",
    "import matplotlib.pyplot as plt\n",
    "import seaborn as sns\n",
    "\n",
    "from sklearn.metrics.pairwise import cosine_similarity\n",
    "from sklearn.feature_extraction.text import CountVectorizer\n",
    "from sklearn.manifold import TSNE\n",
    "\n",
    "import warnings\n",
    "warnings.filterwarnings('ignore')"
   ]
  },
  {
   "cell_type": "code",
   "execution_count": 17,
   "metadata": {},
   "outputs": [
    {
     "data": {
      "text/html": [
       "<div>\n",
       "<style scoped>\n",
       "    .dataframe tbody tr th:only-of-type {\n",
       "        vertical-align: middle;\n",
       "    }\n",
       "\n",
       "    .dataframe tbody tr th {\n",
       "        vertical-align: top;\n",
       "    }\n",
       "\n",
       "    .dataframe thead th {\n",
       "        text-align: right;\n",
       "    }\n",
       "</style>\n",
       "<table border=\"1\" class=\"dataframe\">\n",
       "  <thead>\n",
       "    <tr style=\"text-align: right;\">\n",
       "      <th></th>\n",
       "      <th>Unnamed: 0</th>\n",
       "      <th>name</th>\n",
       "      <th>album</th>\n",
       "      <th>artist</th>\n",
       "      <th>release_date</th>\n",
       "      <th>length</th>\n",
       "      <th>popularity</th>\n",
       "      <th>acousticness</th>\n",
       "      <th>danceability</th>\n",
       "      <th>energy</th>\n",
       "      <th>instrumentalness</th>\n",
       "      <th>liveness</th>\n",
       "      <th>loudness</th>\n",
       "      <th>speechiness</th>\n",
       "      <th>tempo</th>\n",
       "      <th>time_signature</th>\n",
       "    </tr>\n",
       "  </thead>\n",
       "  <tbody>\n",
       "    <tr>\n",
       "      <th>0</th>\n",
       "      <td>0</td>\n",
       "      <td>ช่วงเวลา</td>\n",
       "      <td>I'm 20</td>\n",
       "      <td>Zweed n' Roll</td>\n",
       "      <td>2018-05-28</td>\n",
       "      <td>317841</td>\n",
       "      <td>56</td>\n",
       "      <td>0.3870</td>\n",
       "      <td>0.441</td>\n",
       "      <td>0.489</td>\n",
       "      <td>0.000483</td>\n",
       "      <td>0.1010</td>\n",
       "      <td>-7.108</td>\n",
       "      <td>0.0274</td>\n",
       "      <td>169.965</td>\n",
       "      <td>3</td>\n",
       "    </tr>\n",
       "    <tr>\n",
       "      <th>1</th>\n",
       "      <td>1</td>\n",
       "      <td>ไม่รู้ทำไม</td>\n",
       "      <td>PAR-K</td>\n",
       "      <td>Whal &amp; Dolph</td>\n",
       "      <td>2019-02-14</td>\n",
       "      <td>289750</td>\n",
       "      <td>50</td>\n",
       "      <td>0.0504</td>\n",
       "      <td>0.622</td>\n",
       "      <td>0.679</td>\n",
       "      <td>0.000134</td>\n",
       "      <td>0.2730</td>\n",
       "      <td>-6.537</td>\n",
       "      <td>0.0273</td>\n",
       "      <td>110.030</td>\n",
       "      <td>4</td>\n",
       "    </tr>\n",
       "    <tr>\n",
       "      <th>2</th>\n",
       "      <td>2</td>\n",
       "      <td>หัวใจเจ้าเอย​ (Not Again)</td>\n",
       "      <td>หัวใจเจ้าเอย​ (Not Again)</td>\n",
       "      <td>Alyn Wee</td>\n",
       "      <td>2021-07-02</td>\n",
       "      <td>238116</td>\n",
       "      <td>60</td>\n",
       "      <td>0.4680</td>\n",
       "      <td>0.542</td>\n",
       "      <td>0.434</td>\n",
       "      <td>0.000061</td>\n",
       "      <td>0.0885</td>\n",
       "      <td>-9.396</td>\n",
       "      <td>0.0403</td>\n",
       "      <td>139.870</td>\n",
       "      <td>3</td>\n",
       "    </tr>\n",
       "    <tr>\n",
       "      <th>3</th>\n",
       "      <td>3</td>\n",
       "      <td>ลาก่อน</td>\n",
       "      <td>พบพา...ลาก่อน</td>\n",
       "      <td>YourMOOD</td>\n",
       "      <td>2023-11-03</td>\n",
       "      <td>188500</td>\n",
       "      <td>48</td>\n",
       "      <td>0.0175</td>\n",
       "      <td>0.563</td>\n",
       "      <td>0.852</td>\n",
       "      <td>0.001350</td>\n",
       "      <td>0.1080</td>\n",
       "      <td>-7.114</td>\n",
       "      <td>0.0319</td>\n",
       "      <td>135.012</td>\n",
       "      <td>4</td>\n",
       "    </tr>\n",
       "    <tr>\n",
       "      <th>4</th>\n",
       "      <td>4</td>\n",
       "      <td>ได้ไหม</td>\n",
       "      <td>Daydream Blue</td>\n",
       "      <td>fluffypak</td>\n",
       "      <td>2019-12-25</td>\n",
       "      <td>312812</td>\n",
       "      <td>47</td>\n",
       "      <td>0.1880</td>\n",
       "      <td>0.501</td>\n",
       "      <td>0.546</td>\n",
       "      <td>0.000005</td>\n",
       "      <td>0.1410</td>\n",
       "      <td>-7.969</td>\n",
       "      <td>0.0306</td>\n",
       "      <td>85.892</td>\n",
       "      <td>4</td>\n",
       "    </tr>\n",
       "  </tbody>\n",
       "</table>\n",
       "</div>"
      ],
      "text/plain": [
       "   Unnamed: 0                       name                      album  \\\n",
       "0           0                   ช่วงเวลา                     I'm 20   \n",
       "1           1                 ไม่รู้ทำไม                      PAR-K   \n",
       "2           2  หัวใจเจ้าเอย​ (Not Again)  หัวใจเจ้าเอย​ (Not Again)   \n",
       "3           3                     ลาก่อน              พบพา...ลาก่อน   \n",
       "4           4                     ได้ไหม              Daydream Blue   \n",
       "\n",
       "          artist release_date  length  popularity  acousticness  danceability  \\\n",
       "0  Zweed n' Roll   2018-05-28  317841          56        0.3870         0.441   \n",
       "1   Whal & Dolph   2019-02-14  289750          50        0.0504         0.622   \n",
       "2       Alyn Wee   2021-07-02  238116          60        0.4680         0.542   \n",
       "3       YourMOOD   2023-11-03  188500          48        0.0175         0.563   \n",
       "4      fluffypak   2019-12-25  312812          47        0.1880         0.501   \n",
       "\n",
       "   energy  instrumentalness  liveness  loudness  speechiness    tempo  \\\n",
       "0   0.489          0.000483    0.1010    -7.108       0.0274  169.965   \n",
       "1   0.679          0.000134    0.2730    -6.537       0.0273  110.030   \n",
       "2   0.434          0.000061    0.0885    -9.396       0.0403  139.870   \n",
       "3   0.852          0.001350    0.1080    -7.114       0.0319  135.012   \n",
       "4   0.546          0.000005    0.1410    -7.969       0.0306   85.892   \n",
       "\n",
       "   time_signature  \n",
       "0               3  \n",
       "1               4  \n",
       "2               3  \n",
       "3               4  \n",
       "4               4  "
      ]
     },
     "execution_count": 17,
     "metadata": {},
     "output_type": "execute_result"
    }
   ],
   "source": [
    "# Data preprocessing\n",
    "tracks = pd.read_csv('info_playlist.csv')\n",
    "tracks.head()"
   ]
  },
  {
   "cell_type": "markdown",
   "metadata": {},
   "source": [
    "3. Data Exploration (Exploratory Data Analysis)"
   ]
  },
  {
   "cell_type": "code",
   "execution_count": 18,
   "metadata": {},
   "outputs": [
    {
     "data": {
      "text/plain": [
       "Unnamed: 0          0\n",
       "name                0\n",
       "album               0\n",
       "artist              0\n",
       "release_date        0\n",
       "length              0\n",
       "popularity          0\n",
       "acousticness        0\n",
       "danceability        0\n",
       "energy              0\n",
       "instrumentalness    0\n",
       "liveness            0\n",
       "loudness            0\n",
       "speechiness         0\n",
       "tempo               0\n",
       "time_signature      0\n",
       "dtype: int64"
      ]
     },
     "execution_count": 18,
     "metadata": {},
     "output_type": "execute_result"
    }
   ],
   "source": [
    "tracks.isnull().sum()"
   ]
  },
  {
   "cell_type": "code",
   "execution_count": 19,
   "metadata": {},
   "outputs": [
    {
     "data": {
      "application/vnd.plotly.v1+json": {
       "config": {
        "plotlyServerURL": "https://plot.ly"
       },
       "data": [
        {
         "hovertemplate": "tempo=%{x}<br>danceability=%{y}<br>popularity=%{marker.color}<extra></extra>",
         "legendgroup": "",
         "marker": {
          "color": [
           56,
           50,
           60,
           48,
           47,
           49,
           61,
           54,
           50,
           64,
           47,
           43,
           53,
           63,
           41,
           51,
           54,
           58,
           53,
           38,
           57,
           47,
           51,
           47,
           48,
           54,
           45,
           44,
           37,
           55,
           50,
           38,
           20,
           39,
           30,
           53,
           53,
           57,
           36,
           40,
           58,
           49,
           53,
           43,
           51,
           63,
           56,
           22,
           65,
           52,
           46,
           41,
           57,
           47,
           57,
           40,
           37,
           47,
           46,
           53,
           0,
           46,
           38,
           39,
           37,
           41,
           36,
           38,
           31,
           36,
           41,
           50,
           53,
           29,
           29,
           0,
           49,
           37,
           39,
           51,
           57,
           32,
           50,
           29,
           27,
           31,
           46,
           31,
           34,
           42,
           27,
           50,
           35,
           64,
           45,
           26,
           44,
           57,
           55,
           48
          ],
          "coloraxis": "coloraxis",
          "size": [
           56,
           50,
           60,
           48,
           47,
           49,
           61,
           54,
           50,
           64,
           47,
           43,
           53,
           63,
           41,
           51,
           54,
           58,
           53,
           38,
           57,
           47,
           51,
           47,
           48,
           54,
           45,
           44,
           37,
           55,
           50,
           38,
           20,
           39,
           30,
           53,
           53,
           57,
           36,
           40,
           58,
           49,
           53,
           43,
           51,
           63,
           56,
           22,
           65,
           52,
           46,
           41,
           57,
           47,
           57,
           40,
           37,
           47,
           46,
           53,
           0,
           46,
           38,
           39,
           37,
           41,
           36,
           38,
           31,
           36,
           41,
           50,
           53,
           29,
           29,
           0,
           49,
           37,
           39,
           51,
           57,
           32,
           50,
           29,
           27,
           31,
           46,
           31,
           34,
           42,
           27,
           50,
           35,
           64,
           45,
           26,
           44,
           57,
           55,
           48
          ],
          "sizemode": "area",
          "sizeref": 0.1625,
          "symbol": "circle"
         },
         "mode": "markers",
         "name": "",
         "orientation": "v",
         "showlegend": false,
         "type": "scatter",
         "x": [
          169.965,
          110.03,
          139.87,
          135.012,
          85.892,
          114.034,
          178.005,
          90.061,
          76.975,
          140.027,
          179.859,
          175.942,
          73.963,
          170.022,
          76.003,
          95.885,
          169.61,
          75.876,
          179.437,
          102,
          141.554,
          86,
          167.517,
          136.033,
          64.008,
          145.953,
          142.15,
          91.002,
          189.909,
          183.185,
          139.915,
          140.096,
          156.053,
          175.882,
          75.009,
          145.917,
          152.057,
          160.057,
          131.941,
          153.938,
          130.028,
          144.027,
          158.066,
          147.948,
          175.964,
          167.957,
          75.017,
          64.985,
          188.025,
          159.991,
          154.006,
          121.949,
          91.992,
          185.69,
          183.972,
          142.034,
          149.882,
          142.002,
          75.005,
          145.946,
          160.003,
          120.01,
          184.314,
          91.992,
          94.999,
          179.97,
          140.01,
          175.885,
          63.971,
          130.047,
          120.008,
          74.926,
          156.034,
          147.918,
          163.987,
          170.002,
          149.951,
          142.105,
          90.003,
          179.969,
          140.024,
          143.894,
          116.586,
          96.891,
          127.933,
          150.207,
          83.032,
          104.954,
          140.983,
          167.99,
          117.029,
          140.001,
          175.946,
          78.059,
          113.047,
          89.015,
          66.666,
          79.985,
          135.955,
          179.829
         ],
         "xaxis": "x",
         "y": [
          0.441,
          0.622,
          0.542,
          0.563,
          0.501,
          0.58,
          0.394,
          0.579,
          0.324,
          0.605,
          0.413,
          0.547,
          0.527,
          0.453,
          0.646,
          0.554,
          0.231,
          0.481,
          0.422,
          0.529,
          0.473,
          0.577,
          0.505,
          0.653,
          0.433,
          0.615,
          0.513,
          0.592,
          0.483,
          0.314,
          0.58,
          0.523,
          0.492,
          0.294,
          0.441,
          0.499,
          0.546,
          0.412,
          0.552,
          0.397,
          0.768,
          0.509,
          0.661,
          0.574,
          0.42,
          0.374,
          0.608,
          0.455,
          0.315,
          0.5,
          0.515,
          0.604,
          0.646,
          0.428,
          0.405,
          0.609,
          0.546,
          0.295,
          0.525,
          0.538,
          0.331,
          0.57,
          0.317,
          0.58,
          0.573,
          0.307,
          0.552,
          0.465,
          0.377,
          0.729,
          0.564,
          0.388,
          0.504,
          0.576,
          0.426,
          0.515,
          0.322,
          0.463,
          0.584,
          0.405,
          0.475,
          0.558,
          0.474,
          0.537,
          0.642,
          0.381,
          0.371,
          0.53,
          0.735,
          0.602,
          0.671,
          0.622,
          0.375,
          0.571,
          0.608,
          0.633,
          0.238,
          0.495,
          0.579,
          0.522
         ],
         "yaxis": "y"
        }
       ],
       "layout": {
        "coloraxis": {
         "colorbar": {
          "title": {
           "text": "popularity"
          }
         },
         "colorscale": [
          [
           0,
           "#0d0887"
          ],
          [
           0.1111111111111111,
           "#46039f"
          ],
          [
           0.2222222222222222,
           "#7201a8"
          ],
          [
           0.3333333333333333,
           "#9c179e"
          ],
          [
           0.4444444444444444,
           "#bd3786"
          ],
          [
           0.5555555555555556,
           "#d8576b"
          ],
          [
           0.6666666666666666,
           "#ed7953"
          ],
          [
           0.7777777777777778,
           "#fb9f3a"
          ],
          [
           0.8888888888888888,
           "#fdca26"
          ],
          [
           1,
           "#f0f921"
          ]
         ]
        },
        "legend": {
         "itemsizing": "constant",
         "tracegroupgap": 0
        },
        "template": {
         "data": {
          "bar": [
           {
            "error_x": {
             "color": "#2a3f5f"
            },
            "error_y": {
             "color": "#2a3f5f"
            },
            "marker": {
             "line": {
              "color": "#E5ECF6",
              "width": 0.5
             },
             "pattern": {
              "fillmode": "overlay",
              "size": 10,
              "solidity": 0.2
             }
            },
            "type": "bar"
           }
          ],
          "barpolar": [
           {
            "marker": {
             "line": {
              "color": "#E5ECF6",
              "width": 0.5
             },
             "pattern": {
              "fillmode": "overlay",
              "size": 10,
              "solidity": 0.2
             }
            },
            "type": "barpolar"
           }
          ],
          "carpet": [
           {
            "aaxis": {
             "endlinecolor": "#2a3f5f",
             "gridcolor": "white",
             "linecolor": "white",
             "minorgridcolor": "white",
             "startlinecolor": "#2a3f5f"
            },
            "baxis": {
             "endlinecolor": "#2a3f5f",
             "gridcolor": "white",
             "linecolor": "white",
             "minorgridcolor": "white",
             "startlinecolor": "#2a3f5f"
            },
            "type": "carpet"
           }
          ],
          "choropleth": [
           {
            "colorbar": {
             "outlinewidth": 0,
             "ticks": ""
            },
            "type": "choropleth"
           }
          ],
          "contour": [
           {
            "colorbar": {
             "outlinewidth": 0,
             "ticks": ""
            },
            "colorscale": [
             [
              0,
              "#0d0887"
             ],
             [
              0.1111111111111111,
              "#46039f"
             ],
             [
              0.2222222222222222,
              "#7201a8"
             ],
             [
              0.3333333333333333,
              "#9c179e"
             ],
             [
              0.4444444444444444,
              "#bd3786"
             ],
             [
              0.5555555555555556,
              "#d8576b"
             ],
             [
              0.6666666666666666,
              "#ed7953"
             ],
             [
              0.7777777777777778,
              "#fb9f3a"
             ],
             [
              0.8888888888888888,
              "#fdca26"
             ],
             [
              1,
              "#f0f921"
             ]
            ],
            "type": "contour"
           }
          ],
          "contourcarpet": [
           {
            "colorbar": {
             "outlinewidth": 0,
             "ticks": ""
            },
            "type": "contourcarpet"
           }
          ],
          "heatmap": [
           {
            "colorbar": {
             "outlinewidth": 0,
             "ticks": ""
            },
            "colorscale": [
             [
              0,
              "#0d0887"
             ],
             [
              0.1111111111111111,
              "#46039f"
             ],
             [
              0.2222222222222222,
              "#7201a8"
             ],
             [
              0.3333333333333333,
              "#9c179e"
             ],
             [
              0.4444444444444444,
              "#bd3786"
             ],
             [
              0.5555555555555556,
              "#d8576b"
             ],
             [
              0.6666666666666666,
              "#ed7953"
             ],
             [
              0.7777777777777778,
              "#fb9f3a"
             ],
             [
              0.8888888888888888,
              "#fdca26"
             ],
             [
              1,
              "#f0f921"
             ]
            ],
            "type": "heatmap"
           }
          ],
          "heatmapgl": [
           {
            "colorbar": {
             "outlinewidth": 0,
             "ticks": ""
            },
            "colorscale": [
             [
              0,
              "#0d0887"
             ],
             [
              0.1111111111111111,
              "#46039f"
             ],
             [
              0.2222222222222222,
              "#7201a8"
             ],
             [
              0.3333333333333333,
              "#9c179e"
             ],
             [
              0.4444444444444444,
              "#bd3786"
             ],
             [
              0.5555555555555556,
              "#d8576b"
             ],
             [
              0.6666666666666666,
              "#ed7953"
             ],
             [
              0.7777777777777778,
              "#fb9f3a"
             ],
             [
              0.8888888888888888,
              "#fdca26"
             ],
             [
              1,
              "#f0f921"
             ]
            ],
            "type": "heatmapgl"
           }
          ],
          "histogram": [
           {
            "marker": {
             "pattern": {
              "fillmode": "overlay",
              "size": 10,
              "solidity": 0.2
             }
            },
            "type": "histogram"
           }
          ],
          "histogram2d": [
           {
            "colorbar": {
             "outlinewidth": 0,
             "ticks": ""
            },
            "colorscale": [
             [
              0,
              "#0d0887"
             ],
             [
              0.1111111111111111,
              "#46039f"
             ],
             [
              0.2222222222222222,
              "#7201a8"
             ],
             [
              0.3333333333333333,
              "#9c179e"
             ],
             [
              0.4444444444444444,
              "#bd3786"
             ],
             [
              0.5555555555555556,
              "#d8576b"
             ],
             [
              0.6666666666666666,
              "#ed7953"
             ],
             [
              0.7777777777777778,
              "#fb9f3a"
             ],
             [
              0.8888888888888888,
              "#fdca26"
             ],
             [
              1,
              "#f0f921"
             ]
            ],
            "type": "histogram2d"
           }
          ],
          "histogram2dcontour": [
           {
            "colorbar": {
             "outlinewidth": 0,
             "ticks": ""
            },
            "colorscale": [
             [
              0,
              "#0d0887"
             ],
             [
              0.1111111111111111,
              "#46039f"
             ],
             [
              0.2222222222222222,
              "#7201a8"
             ],
             [
              0.3333333333333333,
              "#9c179e"
             ],
             [
              0.4444444444444444,
              "#bd3786"
             ],
             [
              0.5555555555555556,
              "#d8576b"
             ],
             [
              0.6666666666666666,
              "#ed7953"
             ],
             [
              0.7777777777777778,
              "#fb9f3a"
             ],
             [
              0.8888888888888888,
              "#fdca26"
             ],
             [
              1,
              "#f0f921"
             ]
            ],
            "type": "histogram2dcontour"
           }
          ],
          "mesh3d": [
           {
            "colorbar": {
             "outlinewidth": 0,
             "ticks": ""
            },
            "type": "mesh3d"
           }
          ],
          "parcoords": [
           {
            "line": {
             "colorbar": {
              "outlinewidth": 0,
              "ticks": ""
             }
            },
            "type": "parcoords"
           }
          ],
          "pie": [
           {
            "automargin": true,
            "type": "pie"
           }
          ],
          "scatter": [
           {
            "fillpattern": {
             "fillmode": "overlay",
             "size": 10,
             "solidity": 0.2
            },
            "type": "scatter"
           }
          ],
          "scatter3d": [
           {
            "line": {
             "colorbar": {
              "outlinewidth": 0,
              "ticks": ""
             }
            },
            "marker": {
             "colorbar": {
              "outlinewidth": 0,
              "ticks": ""
             }
            },
            "type": "scatter3d"
           }
          ],
          "scattercarpet": [
           {
            "marker": {
             "colorbar": {
              "outlinewidth": 0,
              "ticks": ""
             }
            },
            "type": "scattercarpet"
           }
          ],
          "scattergeo": [
           {
            "marker": {
             "colorbar": {
              "outlinewidth": 0,
              "ticks": ""
             }
            },
            "type": "scattergeo"
           }
          ],
          "scattergl": [
           {
            "marker": {
             "colorbar": {
              "outlinewidth": 0,
              "ticks": ""
             }
            },
            "type": "scattergl"
           }
          ],
          "scattermapbox": [
           {
            "marker": {
             "colorbar": {
              "outlinewidth": 0,
              "ticks": ""
             }
            },
            "type": "scattermapbox"
           }
          ],
          "scatterpolar": [
           {
            "marker": {
             "colorbar": {
              "outlinewidth": 0,
              "ticks": ""
             }
            },
            "type": "scatterpolar"
           }
          ],
          "scatterpolargl": [
           {
            "marker": {
             "colorbar": {
              "outlinewidth": 0,
              "ticks": ""
             }
            },
            "type": "scatterpolargl"
           }
          ],
          "scatterternary": [
           {
            "marker": {
             "colorbar": {
              "outlinewidth": 0,
              "ticks": ""
             }
            },
            "type": "scatterternary"
           }
          ],
          "surface": [
           {
            "colorbar": {
             "outlinewidth": 0,
             "ticks": ""
            },
            "colorscale": [
             [
              0,
              "#0d0887"
             ],
             [
              0.1111111111111111,
              "#46039f"
             ],
             [
              0.2222222222222222,
              "#7201a8"
             ],
             [
              0.3333333333333333,
              "#9c179e"
             ],
             [
              0.4444444444444444,
              "#bd3786"
             ],
             [
              0.5555555555555556,
              "#d8576b"
             ],
             [
              0.6666666666666666,
              "#ed7953"
             ],
             [
              0.7777777777777778,
              "#fb9f3a"
             ],
             [
              0.8888888888888888,
              "#fdca26"
             ],
             [
              1,
              "#f0f921"
             ]
            ],
            "type": "surface"
           }
          ],
          "table": [
           {
            "cells": {
             "fill": {
              "color": "#EBF0F8"
             },
             "line": {
              "color": "white"
             }
            },
            "header": {
             "fill": {
              "color": "#C8D4E3"
             },
             "line": {
              "color": "white"
             }
            },
            "type": "table"
           }
          ]
         },
         "layout": {
          "annotationdefaults": {
           "arrowcolor": "#2a3f5f",
           "arrowhead": 0,
           "arrowwidth": 1
          },
          "autotypenumbers": "strict",
          "coloraxis": {
           "colorbar": {
            "outlinewidth": 0,
            "ticks": ""
           }
          },
          "colorscale": {
           "diverging": [
            [
             0,
             "#8e0152"
            ],
            [
             0.1,
             "#c51b7d"
            ],
            [
             0.2,
             "#de77ae"
            ],
            [
             0.3,
             "#f1b6da"
            ],
            [
             0.4,
             "#fde0ef"
            ],
            [
             0.5,
             "#f7f7f7"
            ],
            [
             0.6,
             "#e6f5d0"
            ],
            [
             0.7,
             "#b8e186"
            ],
            [
             0.8,
             "#7fbc41"
            ],
            [
             0.9,
             "#4d9221"
            ],
            [
             1,
             "#276419"
            ]
           ],
           "sequential": [
            [
             0,
             "#0d0887"
            ],
            [
             0.1111111111111111,
             "#46039f"
            ],
            [
             0.2222222222222222,
             "#7201a8"
            ],
            [
             0.3333333333333333,
             "#9c179e"
            ],
            [
             0.4444444444444444,
             "#bd3786"
            ],
            [
             0.5555555555555556,
             "#d8576b"
            ],
            [
             0.6666666666666666,
             "#ed7953"
            ],
            [
             0.7777777777777778,
             "#fb9f3a"
            ],
            [
             0.8888888888888888,
             "#fdca26"
            ],
            [
             1,
             "#f0f921"
            ]
           ],
           "sequentialminus": [
            [
             0,
             "#0d0887"
            ],
            [
             0.1111111111111111,
             "#46039f"
            ],
            [
             0.2222222222222222,
             "#7201a8"
            ],
            [
             0.3333333333333333,
             "#9c179e"
            ],
            [
             0.4444444444444444,
             "#bd3786"
            ],
            [
             0.5555555555555556,
             "#d8576b"
            ],
            [
             0.6666666666666666,
             "#ed7953"
            ],
            [
             0.7777777777777778,
             "#fb9f3a"
            ],
            [
             0.8888888888888888,
             "#fdca26"
            ],
            [
             1,
             "#f0f921"
            ]
           ]
          },
          "colorway": [
           "#636efa",
           "#EF553B",
           "#00cc96",
           "#ab63fa",
           "#FFA15A",
           "#19d3f3",
           "#FF6692",
           "#B6E880",
           "#FF97FF",
           "#FECB52"
          ],
          "font": {
           "color": "#2a3f5f"
          },
          "geo": {
           "bgcolor": "white",
           "lakecolor": "white",
           "landcolor": "#E5ECF6",
           "showlakes": true,
           "showland": true,
           "subunitcolor": "white"
          },
          "hoverlabel": {
           "align": "left"
          },
          "hovermode": "closest",
          "mapbox": {
           "style": "light"
          },
          "paper_bgcolor": "white",
          "plot_bgcolor": "#E5ECF6",
          "polar": {
           "angularaxis": {
            "gridcolor": "white",
            "linecolor": "white",
            "ticks": ""
           },
           "bgcolor": "#E5ECF6",
           "radialaxis": {
            "gridcolor": "white",
            "linecolor": "white",
            "ticks": ""
           }
          },
          "scene": {
           "xaxis": {
            "backgroundcolor": "#E5ECF6",
            "gridcolor": "white",
            "gridwidth": 2,
            "linecolor": "white",
            "showbackground": true,
            "ticks": "",
            "zerolinecolor": "white"
           },
           "yaxis": {
            "backgroundcolor": "#E5ECF6",
            "gridcolor": "white",
            "gridwidth": 2,
            "linecolor": "white",
            "showbackground": true,
            "ticks": "",
            "zerolinecolor": "white"
           },
           "zaxis": {
            "backgroundcolor": "#E5ECF6",
            "gridcolor": "white",
            "gridwidth": 2,
            "linecolor": "white",
            "showbackground": true,
            "ticks": "",
            "zerolinecolor": "white"
           }
          },
          "shapedefaults": {
           "line": {
            "color": "#2a3f5f"
           }
          },
          "ternary": {
           "aaxis": {
            "gridcolor": "white",
            "linecolor": "white",
            "ticks": ""
           },
           "baxis": {
            "gridcolor": "white",
            "linecolor": "white",
            "ticks": ""
           },
           "bgcolor": "#E5ECF6",
           "caxis": {
            "gridcolor": "white",
            "linecolor": "white",
            "ticks": ""
           }
          },
          "title": {
           "x": 0.05
          },
          "xaxis": {
           "automargin": true,
           "gridcolor": "white",
           "linecolor": "white",
           "ticks": "",
           "title": {
            "standoff": 15
           },
           "zerolinecolor": "white",
           "zerolinewidth": 2
          },
          "yaxis": {
           "automargin": true,
           "gridcolor": "white",
           "linecolor": "white",
           "ticks": "",
           "title": {
            "standoff": 15
           },
           "zerolinecolor": "white",
           "zerolinewidth": 2
          }
         }
        },
        "title": {
         "text": "Scatter Plot of Popular Songs using Tempo against Danceability"
        },
        "xaxis": {
         "anchor": "y",
         "domain": [
          0,
          1
         ],
         "title": {
          "text": "tempo"
         }
        },
        "yaxis": {
         "anchor": "x",
         "domain": [
          0,
          1
         ],
         "title": {
          "text": "danceability"
         }
        }
       }
      }
     },
     "metadata": {},
     "output_type": "display_data"
    }
   ],
   "source": [
    "import plotly_express as px\n",
    "\n",
    "sctplot = px.scatter(tracks, x = tracks['tempo'], y = tracks['danceability'],\n",
    "                     color=tracks['popularity'],size=tracks['popularity'],\n",
    "                     title = 'Scatter Plot of Popular Songs using Tempo against Danceability')\n",
    "\n",
    "sctplot.show()"
   ]
  },
  {
   "cell_type": "markdown",
   "metadata": {},
   "source": [
    "4. Building the model"
   ]
  },
  {
   "cell_type": "code",
   "execution_count": 20,
   "metadata": {},
   "outputs": [],
   "source": [
    "%%capture\n",
    "song_vectorizer = CountVectorizer()\n",
    "song_vectorizer.fit(tracks['name'])"
   ]
  },
  {
   "cell_type": "code",
   "execution_count": 21,
   "metadata": {},
   "outputs": [
    {
     "data": {
      "text/html": [
       "<div>\n",
       "<style scoped>\n",
       "    .dataframe tbody tr th:only-of-type {\n",
       "        vertical-align: middle;\n",
       "    }\n",
       "\n",
       "    .dataframe tbody tr th {\n",
       "        vertical-align: top;\n",
       "    }\n",
       "\n",
       "    .dataframe thead th {\n",
       "        text-align: right;\n",
       "    }\n",
       "</style>\n",
       "<table border=\"1\" class=\"dataframe\">\n",
       "  <thead>\n",
       "    <tr style=\"text-align: right;\">\n",
       "      <th></th>\n",
       "      <th>Unnamed: 0</th>\n",
       "      <th>name</th>\n",
       "      <th>album</th>\n",
       "      <th>artist</th>\n",
       "      <th>release_date</th>\n",
       "      <th>length</th>\n",
       "      <th>popularity</th>\n",
       "      <th>acousticness</th>\n",
       "      <th>danceability</th>\n",
       "      <th>energy</th>\n",
       "      <th>instrumentalness</th>\n",
       "      <th>liveness</th>\n",
       "      <th>loudness</th>\n",
       "      <th>speechiness</th>\n",
       "      <th>tempo</th>\n",
       "      <th>time_signature</th>\n",
       "    </tr>\n",
       "  </thead>\n",
       "  <tbody>\n",
       "    <tr>\n",
       "      <th>48</th>\n",
       "      <td>48</td>\n",
       "      <td>ปล่อยดาว</td>\n",
       "      <td>ปล่อยดาว</td>\n",
       "      <td>YEW</td>\n",
       "      <td>2023-08-31</td>\n",
       "      <td>253412</td>\n",
       "      <td>65</td>\n",
       "      <td>0.035600</td>\n",
       "      <td>0.315</td>\n",
       "      <td>0.747</td>\n",
       "      <td>0.000169</td>\n",
       "      <td>0.1730</td>\n",
       "      <td>-6.022</td>\n",
       "      <td>0.0434</td>\n",
       "      <td>188.025</td>\n",
       "      <td>3</td>\n",
       "    </tr>\n",
       "    <tr>\n",
       "      <th>9</th>\n",
       "      <td>9</td>\n",
       "      <td>จากตรงนี้ที่(เคย)สวยงาม [La La Bye]</td>\n",
       "      <td>จากตรงนี้ที่(เคย)สวยงาม [La La Bye]</td>\n",
       "      <td>AYLA's</td>\n",
       "      <td>2023-01-20</td>\n",
       "      <td>288250</td>\n",
       "      <td>64</td>\n",
       "      <td>0.470000</td>\n",
       "      <td>0.605</td>\n",
       "      <td>0.452</td>\n",
       "      <td>0.000003</td>\n",
       "      <td>0.1240</td>\n",
       "      <td>-8.951</td>\n",
       "      <td>0.0264</td>\n",
       "      <td>140.027</td>\n",
       "      <td>4</td>\n",
       "    </tr>\n",
       "    <tr>\n",
       "      <th>93</th>\n",
       "      <td>93</td>\n",
       "      <td>อาจเป็นเพราะฉันเอง (me.)</td>\n",
       "      <td>อาจเป็นเพราะฉันเอง (me.)</td>\n",
       "      <td>PURPEECH</td>\n",
       "      <td>2023-04-05</td>\n",
       "      <td>283079</td>\n",
       "      <td>64</td>\n",
       "      <td>0.299000</td>\n",
       "      <td>0.571</td>\n",
       "      <td>0.562</td>\n",
       "      <td>0.000745</td>\n",
       "      <td>0.0668</td>\n",
       "      <td>-8.752</td>\n",
       "      <td>0.0312</td>\n",
       "      <td>78.059</td>\n",
       "      <td>4</td>\n",
       "    </tr>\n",
       "    <tr>\n",
       "      <th>45</th>\n",
       "      <td>45</td>\n",
       "      <td>รสหวาน</td>\n",
       "      <td>ท้องฟ้าจำลอง</td>\n",
       "      <td>FREEHAND</td>\n",
       "      <td>2022-01-12</td>\n",
       "      <td>293784</td>\n",
       "      <td>63</td>\n",
       "      <td>0.000924</td>\n",
       "      <td>0.374</td>\n",
       "      <td>0.569</td>\n",
       "      <td>0.000025</td>\n",
       "      <td>0.0967</td>\n",
       "      <td>-7.456</td>\n",
       "      <td>0.0266</td>\n",
       "      <td>167.957</td>\n",
       "      <td>4</td>\n",
       "    </tr>\n",
       "    <tr>\n",
       "      <th>13</th>\n",
       "      <td>13</td>\n",
       "      <td>เพลงรักในวันลา</td>\n",
       "      <td>เพลงรักในวันลา</td>\n",
       "      <td>Lower Mansion</td>\n",
       "      <td>2022-11-08</td>\n",
       "      <td>268941</td>\n",
       "      <td>63</td>\n",
       "      <td>0.522000</td>\n",
       "      <td>0.453</td>\n",
       "      <td>0.434</td>\n",
       "      <td>0.000003</td>\n",
       "      <td>0.5310</td>\n",
       "      <td>-6.854</td>\n",
       "      <td>0.0260</td>\n",
       "      <td>170.022</td>\n",
       "      <td>3</td>\n",
       "    </tr>\n",
       "    <tr>\n",
       "      <th>...</th>\n",
       "      <td>...</td>\n",
       "      <td>...</td>\n",
       "      <td>...</td>\n",
       "      <td>...</td>\n",
       "      <td>...</td>\n",
       "      <td>...</td>\n",
       "      <td>...</td>\n",
       "      <td>...</td>\n",
       "      <td>...</td>\n",
       "      <td>...</td>\n",
       "      <td>...</td>\n",
       "      <td>...</td>\n",
       "      <td>...</td>\n",
       "      <td>...</td>\n",
       "      <td>...</td>\n",
       "      <td>...</td>\n",
       "    </tr>\n",
       "    <tr>\n",
       "      <th>95</th>\n",
       "      <td>95</td>\n",
       "      <td>ปลอบ</td>\n",
       "      <td>Moving and Cut</td>\n",
       "      <td>Moving and Cut</td>\n",
       "      <td>2016-09-02</td>\n",
       "      <td>259083</td>\n",
       "      <td>26</td>\n",
       "      <td>0.171000</td>\n",
       "      <td>0.633</td>\n",
       "      <td>0.783</td>\n",
       "      <td>0.000015</td>\n",
       "      <td>0.1090</td>\n",
       "      <td>-5.576</td>\n",
       "      <td>0.0272</td>\n",
       "      <td>89.015</td>\n",
       "      <td>4</td>\n",
       "    </tr>\n",
       "    <tr>\n",
       "      <th>47</th>\n",
       "      <td>47</td>\n",
       "      <td>ย้อน</td>\n",
       "      <td>WILLISHMARA (วิลิศมาหรา)</td>\n",
       "      <td>Whal &amp; Dolph</td>\n",
       "      <td>2021-03-31</td>\n",
       "      <td>368250</td>\n",
       "      <td>22</td>\n",
       "      <td>0.324000</td>\n",
       "      <td>0.455</td>\n",
       "      <td>0.351</td>\n",
       "      <td>0.704000</td>\n",
       "      <td>0.3300</td>\n",
       "      <td>-8.523</td>\n",
       "      <td>0.0278</td>\n",
       "      <td>64.985</td>\n",
       "      <td>4</td>\n",
       "    </tr>\n",
       "    <tr>\n",
       "      <th>32</th>\n",
       "      <td>32</td>\n",
       "      <td>กลับไปที่เก่า (Revoke)</td>\n",
       "      <td>Spirit</td>\n",
       "      <td>Singular</td>\n",
       "      <td>2012-06-20</td>\n",
       "      <td>201946</td>\n",
       "      <td>20</td>\n",
       "      <td>0.613000</td>\n",
       "      <td>0.492</td>\n",
       "      <td>0.468</td>\n",
       "      <td>0.000029</td>\n",
       "      <td>0.1690</td>\n",
       "      <td>-10.122</td>\n",
       "      <td>0.0310</td>\n",
       "      <td>156.053</td>\n",
       "      <td>4</td>\n",
       "    </tr>\n",
       "    <tr>\n",
       "      <th>60</th>\n",
       "      <td>60</td>\n",
       "      <td>Unfriend</td>\n",
       "      <td>Social Notwork</td>\n",
       "      <td>Helmetheads</td>\n",
       "      <td>2017-11-25</td>\n",
       "      <td>266528</td>\n",
       "      <td>0</td>\n",
       "      <td>0.054200</td>\n",
       "      <td>0.331</td>\n",
       "      <td>0.532</td>\n",
       "      <td>0.000004</td>\n",
       "      <td>0.1150</td>\n",
       "      <td>-6.507</td>\n",
       "      <td>0.0328</td>\n",
       "      <td>160.003</td>\n",
       "      <td>4</td>\n",
       "    </tr>\n",
       "    <tr>\n",
       "      <th>75</th>\n",
       "      <td>75</td>\n",
       "      <td>เจอแต่คนใจร้าย feat. Ink Waruntorn</td>\n",
       "      <td>เจอแต่คนใจร้าย</td>\n",
       "      <td>Lipta</td>\n",
       "      <td>2020-12-08</td>\n",
       "      <td>234500</td>\n",
       "      <td>0</td>\n",
       "      <td>0.064400</td>\n",
       "      <td>0.515</td>\n",
       "      <td>0.604</td>\n",
       "      <td>0.000000</td>\n",
       "      <td>0.1850</td>\n",
       "      <td>-6.152</td>\n",
       "      <td>0.0512</td>\n",
       "      <td>170.002</td>\n",
       "      <td>4</td>\n",
       "    </tr>\n",
       "  </tbody>\n",
       "</table>\n",
       "<p>100 rows × 16 columns</p>\n",
       "</div>"
      ],
      "text/plain": [
       "    Unnamed: 0                                 name  \\\n",
       "48          48                             ปล่อยดาว   \n",
       "9            9  จากตรงนี้ที่(เคย)สวยงาม [La La Bye]   \n",
       "93          93             อาจเป็นเพราะฉันเอง (me.)   \n",
       "45          45                               รสหวาน   \n",
       "13          13                       เพลงรักในวันลา   \n",
       "..         ...                                  ...   \n",
       "95          95                                 ปลอบ   \n",
       "47          47                                 ย้อน   \n",
       "32          32               กลับไปที่เก่า (Revoke)   \n",
       "60          60                             Unfriend   \n",
       "75          75   เจอแต่คนใจร้าย feat. Ink Waruntorn   \n",
       "\n",
       "                                  album          artist release_date  length  \\\n",
       "48                             ปล่อยดาว             YEW   2023-08-31  253412   \n",
       "9   จากตรงนี้ที่(เคย)สวยงาม [La La Bye]          AYLA's   2023-01-20  288250   \n",
       "93             อาจเป็นเพราะฉันเอง (me.)        PURPEECH   2023-04-05  283079   \n",
       "45                         ท้องฟ้าจำลอง        FREEHAND   2022-01-12  293784   \n",
       "13                       เพลงรักในวันลา   Lower Mansion   2022-11-08  268941   \n",
       "..                                  ...             ...          ...     ...   \n",
       "95                       Moving and Cut  Moving and Cut   2016-09-02  259083   \n",
       "47             WILLISHMARA (วิลิศมาหรา)    Whal & Dolph   2021-03-31  368250   \n",
       "32                               Spirit        Singular   2012-06-20  201946   \n",
       "60                       Social Notwork     Helmetheads   2017-11-25  266528   \n",
       "75                       เจอแต่คนใจร้าย           Lipta   2020-12-08  234500   \n",
       "\n",
       "    popularity  acousticness  danceability  energy  instrumentalness  \\\n",
       "48          65      0.035600         0.315   0.747          0.000169   \n",
       "9           64      0.470000         0.605   0.452          0.000003   \n",
       "93          64      0.299000         0.571   0.562          0.000745   \n",
       "45          63      0.000924         0.374   0.569          0.000025   \n",
       "13          63      0.522000         0.453   0.434          0.000003   \n",
       "..         ...           ...           ...     ...               ...   \n",
       "95          26      0.171000         0.633   0.783          0.000015   \n",
       "47          22      0.324000         0.455   0.351          0.704000   \n",
       "32          20      0.613000         0.492   0.468          0.000029   \n",
       "60           0      0.054200         0.331   0.532          0.000004   \n",
       "75           0      0.064400         0.515   0.604          0.000000   \n",
       "\n",
       "    liveness  loudness  speechiness    tempo  time_signature  \n",
       "48    0.1730    -6.022       0.0434  188.025               3  \n",
       "9     0.1240    -8.951       0.0264  140.027               4  \n",
       "93    0.0668    -8.752       0.0312   78.059               4  \n",
       "45    0.0967    -7.456       0.0266  167.957               4  \n",
       "13    0.5310    -6.854       0.0260  170.022               3  \n",
       "..       ...       ...          ...      ...             ...  \n",
       "95    0.1090    -5.576       0.0272   89.015               4  \n",
       "47    0.3300    -8.523       0.0278   64.985               4  \n",
       "32    0.1690   -10.122       0.0310  156.053               4  \n",
       "60    0.1150    -6.507       0.0328  160.003               4  \n",
       "75    0.1850    -6.152       0.0512  170.002               4  \n",
       "\n",
       "[100 rows x 16 columns]"
      ]
     },
     "execution_count": 21,
     "metadata": {},
     "output_type": "execute_result"
    }
   ],
   "source": [
    "tracks = tracks.sort_values(by=['popularity'], ascending=False)\n",
    "tracks"
   ]
  },
  {
   "cell_type": "code",
   "execution_count": 22,
   "metadata": {},
   "outputs": [],
   "source": [
    "# Get similarities\n",
    "def get_similarities(song_name, data):\n",
    "\n",
    "    text_array1 = song_vectorizer.transform(data[data['name']==song_name]['artist']).toarray()\n",
    "    num_array1 = data[data['name'] == song_name].select_dtypes(include=np.number).to_numpy()\n",
    "\n",
    "    sim = []\n",
    "    for idx, row in data.iterrows():\n",
    "        name = row['name']\n",
    "\n",
    "        text_array2 = song_vectorizer.transform(data[data['name']==name]['artist']).toarray()\n",
    "        num_array2 = data[data['name'] == name].select_dtypes(include=np.number).to_numpy()\n",
    "\n",
    "        text_sim = cosine_similarity(text_array1, text_array2)[0][0]\n",
    "        num_sim = cosine_similarity(num_array1, num_array2)[0][0]\n",
    "        sim.append(text_sim+num_sim)\n",
    "\n",
    "    return sim\n",
    "\n",
    "def recommend_songs(song_name, data = tracks):\n",
    "\n",
    "    if tracks[tracks['name']==song_name].shape[0] == 0:\n",
    "        print(\"No such song found\")\n",
    "\n",
    "        for song in data.sample(n=7)['name'].values:\n",
    "            print(song)\n",
    "\n",
    "        return\n",
    "    \n",
    "    data['similarity_factor'] = get_similarities(song_name, data)\n",
    "    data.sort_values(by=['similarity_factor','popularity'], ascending= [False,False], inplace=True)\n",
    "\n",
    "    display(data[['name','artist']][1:8])\n",
    "\n"
   ]
  },
  {
   "cell_type": "code",
   "execution_count": 24,
   "metadata": {},
   "outputs": [
    {
     "data": {
      "text/html": [
       "<div>\n",
       "<style scoped>\n",
       "    .dataframe tbody tr th:only-of-type {\n",
       "        vertical-align: middle;\n",
       "    }\n",
       "\n",
       "    .dataframe tbody tr th {\n",
       "        vertical-align: top;\n",
       "    }\n",
       "\n",
       "    .dataframe thead th {\n",
       "        text-align: right;\n",
       "    }\n",
       "</style>\n",
       "<table border=\"1\" class=\"dataframe\">\n",
       "  <thead>\n",
       "    <tr style=\"text-align: right;\">\n",
       "      <th></th>\n",
       "      <th>name</th>\n",
       "      <th>artist</th>\n",
       "    </tr>\n",
       "  </thead>\n",
       "  <tbody>\n",
       "    <tr>\n",
       "      <th>54</th>\n",
       "      <td>กอดความเจ็บช้ำ ( Carry )</td>\n",
       "      <td>Safeplanet</td>\n",
       "    </tr>\n",
       "    <tr>\n",
       "      <th>44</th>\n",
       "      <td>ที่ผ่านมา</td>\n",
       "      <td>YERM</td>\n",
       "    </tr>\n",
       "    <tr>\n",
       "      <th>42</th>\n",
       "      <td>วันที่เธอไม่อยู่ (Farewell)</td>\n",
       "      <td>tinn</td>\n",
       "    </tr>\n",
       "    <tr>\n",
       "      <th>53</th>\n",
       "      <td>บ่า</td>\n",
       "      <td>Moving and Cut</td>\n",
       "    </tr>\n",
       "    <tr>\n",
       "      <th>29</th>\n",
       "      <td>ถ้าต้องเสียเธอไป</td>\n",
       "      <td>lostbeans</td>\n",
       "    </tr>\n",
       "    <tr>\n",
       "      <th>40</th>\n",
       "      <td>ดอกไม้ไฟ</td>\n",
       "      <td>Mirrr</td>\n",
       "    </tr>\n",
       "    <tr>\n",
       "      <th>49</th>\n",
       "      <td>ความน่าจะเป็นเท่ากับสูญ (0%)</td>\n",
       "      <td>AYLA's</td>\n",
       "    </tr>\n",
       "  </tbody>\n",
       "</table>\n",
       "</div>"
      ],
      "text/plain": [
       "                            name          artist\n",
       "54      กอดความเจ็บช้ำ ( Carry )      Safeplanet\n",
       "44                     ที่ผ่านมา            YERM\n",
       "42   วันที่เธอไม่อยู่ (Farewell)            tinn\n",
       "53                           บ่า  Moving and Cut\n",
       "29              ถ้าต้องเสียเธอไป       lostbeans\n",
       "40                      ดอกไม้ไฟ           Mirrr\n",
       "49  ความน่าจะเป็นเท่ากับสูญ (0%)          AYLA's"
      ]
     },
     "metadata": {},
     "output_type": "display_data"
    }
   ],
   "source": [
    "recommend_songs('ปล่อยดาว')"
   ]
  },
  {
   "cell_type": "code",
   "execution_count": null,
   "metadata": {},
   "outputs": [],
   "source": []
  }
 ],
 "metadata": {
  "kernelspec": {
   "display_name": "Python 3",
   "language": "python",
   "name": "python3"
  },
  "language_info": {
   "codemirror_mode": {
    "name": "ipython",
    "version": 3
   },
   "file_extension": ".py",
   "mimetype": "text/x-python",
   "name": "python",
   "nbconvert_exporter": "python",
   "pygments_lexer": "ipython3",
   "version": "3.8.18"
  }
 },
 "nbformat": 4,
 "nbformat_minor": 2
}
