{
 "cells": [
  {
   "cell_type": "markdown",
   "metadata": {},
   "source": [
    "# Music Analysis with Spotify API\n",
    "## Dechathon Niamsa-ard"
   ]
  },
  {
   "cell_type": "code",
   "execution_count": 24,
   "metadata": {},
   "outputs": [],
   "source": [
    "# Import necessary libraries\n",
    "\n",
    "import spotipy\n",
    "import spotipy.oauth2 as oauth2\n",
    "from spotipy.oauth2 import SpotifyOAuth\n",
    "from spotipy.oauth2 import SpotifyClientCredentials\n",
    "import pandas as pd\n",
    "import time"
   ]
  },
  {
   "cell_type": "code",
   "execution_count": 25,
   "metadata": {},
   "outputs": [
    {
     "data": {
      "text/plain": [
       "{'external_urls': {'spotify': 'https://open.spotify.com/artist/4esoPgrgPKbWa6gwU8EGmH'},\n",
       " 'followers': {'href': None, 'total': 670828},\n",
       " 'genres': ['thai indie rock', 'thai pop'],\n",
       " 'href': 'https://api.spotify.com/v1/artists/4esoPgrgPKbWa6gwU8EGmH',\n",
       " 'id': '4esoPgrgPKbWa6gwU8EGmH',\n",
       " 'images': [{'height': 640,\n",
       "   'url': 'https://i.scdn.co/image/ab6761610000e5eb4685b86c6e9e7c3f0990c2d2',\n",
       "   'width': 640},\n",
       "  {'height': 320,\n",
       "   'url': 'https://i.scdn.co/image/ab676161000051744685b86c6e9e7c3f0990c2d2',\n",
       "   'width': 320},\n",
       "  {'height': 160,\n",
       "   'url': 'https://i.scdn.co/image/ab6761610000f1784685b86c6e9e7c3f0990c2d2',\n",
       "   'width': 160}],\n",
       " 'name': 'Tilly Birds',\n",
       " 'popularity': 54,\n",
       " 'type': 'artist',\n",
       " 'uri': 'spotify:artist:4esoPgrgPKbWa6gwU8EGmH'}"
      ]
     },
     "execution_count": 25,
     "metadata": {},
     "output_type": "execute_result"
    }
   ],
   "source": [
    "# Setting client and secret keys\n",
    "\n",
    "cid = \"f9f67b132f2d459e854dfba821a135a7\"\n",
    "cis = \"f5572ed1827d4026947353917184d073\"\n",
    "auth_manager = SpotifyClientCredentials(client_id=cid, client_secret=cis)\n",
    "sp = spotipy.Spotify(auth_manager=auth_manager)\n",
    "artist_info = \"https://open.spotify.com/artist/4esoPgrgPKbWa6gwU8EGmH?si=kc-81ASzTDOQxlIf8GtyBQ\"\n",
    "artist = sp.artist(artist_info)\n",
    "artist"
   ]
  },
  {
   "cell_type": "code",
   "execution_count": 26,
   "metadata": {},
   "outputs": [
    {
     "data": {
      "text/plain": [
       "[{'external_urls': {'spotify': 'https://open.spotify.com/artist/53XhwfbYqKCa1cC15pYq2q'},\n",
       "  'href': 'https://api.spotify.com/v1/artists/53XhwfbYqKCa1cC15pYq2q',\n",
       "  'id': '53XhwfbYqKCa1cC15pYq2q',\n",
       "  'name': 'Imagine Dragons',\n",
       "  'type': 'artist',\n",
       "  'uri': 'spotify:artist:53XhwfbYqKCa1cC15pYq2q'}]"
      ]
     },
     "execution_count": 26,
     "metadata": {},
     "output_type": "execute_result"
    }
   ],
   "source": [
    "# Search with API\n",
    "\n",
    "name = [\"Imagine Dragons\"]\n",
    "res = sp.search(name)\n",
    "res['tracks']['items'][1]['artists']"
   ]
  },
  {
   "cell_type": "code",
   "execution_count": 27,
   "metadata": {},
   "outputs": [
    {
     "name": "stdout",
     "output_type": "stream",
     "text": [
      "It’s Gonna Be Tilly Birds\n",
      "It’s Gonna Be OK (Deluxe)\n",
      "It's Gonna Be OK\n",
      "ผู้เดียว\n"
     ]
    }
   ],
   "source": [
    "# List the albums from artist\n",
    "\n",
    "albums = \"https://open.spotify.com/artist/4esoPgrgPKbWa6gwU8EGmH?si=kc-81ASzTDOQxlIf8GtyBQ\"\n",
    "sp = spotipy.Spotify(auth_manager=auth_manager)\n",
    "\n",
    "results = sp.artist_albums(albums, album_type='album')\n",
    "\n",
    "albums = results['items']\n",
    "while results['next']:\n",
    "    results = sp.next(results)\n",
    "    albums.extend(results['items'])\n",
    "\n",
    "for album in albums:\n",
    "    print(album['name'])"
   ]
  },
  {
   "cell_type": "code",
   "execution_count": 28,
   "metadata": {},
   "outputs": [
    {
     "name": "stdout",
     "output_type": "stream",
     "text": [
      "1\n",
      "Song     : เพื่อนเล่น ไม่เล่นเพื่อน (Just Being Friendly)\n",
      "Audio    : https://p.scdn.co/mp3-preview/c6c04115083a1727db3cbae2f7e768a948311a3a?cid=f9f67b132f2d459e854dfba821a135a7\n",
      "\n",
      "2\n",
      "Song     : คิด(แต่ไม่)ถึง (Same Page?)\n",
      "Audio    : https://p.scdn.co/mp3-preview/1b4007e40ccedd440d3a32712926145bba71bd43?cid=f9f67b132f2d459e854dfba821a135a7\n",
      "\n",
      "3\n",
      "Song     : จำเก่ง (Slipped Your Mind)\n",
      "Audio    : https://p.scdn.co/mp3-preview/7d63009ad7e8e002686ccd92e37f0c2e4acf79f0?cid=f9f67b132f2d459e854dfba821a135a7\n",
      "\n",
      "4\n",
      "Song     : ถ้าเราเจอกันอีก (Until Then)\n",
      "Audio    : https://p.scdn.co/mp3-preview/573cecf192000df088f55580d344ec9215f26141?cid=f9f67b132f2d459e854dfba821a135a7\n",
      "\n",
      "5\n",
      "Song     : จากกันด้วยดี (Ordinary)\n",
      "Audio    : https://p.scdn.co/mp3-preview/4b6c9b211d10275980f6e2001b61625c9a9f4bc1?cid=f9f67b132f2d459e854dfba821a135a7\n",
      "\n"
     ]
    }
   ],
   "source": [
    "# List top 5 artist's songs\n",
    "\n",
    "top_track = \"https://open.spotify.com/artist/4esoPgrgPKbWa6gwU8EGmH?si=kc-81ASzTDOQxlIf8GtyBQ\"\n",
    "sp = spotipy.Spotify(auth_manager=auth_manager)\n",
    "\n",
    "results = sp.artist_top_tracks(top_track, country='TH')\n",
    "\n",
    "for index,track in enumerate(results['tracks'][:5], start = 1):\n",
    "    print(index)\n",
    "    print('Song     :', track['name'])\n",
    "    print('Audio    :', track['preview_url'])\n",
    "    print()"
   ]
  },
  {
   "cell_type": "code",
   "execution_count": 31,
   "metadata": {},
   "outputs": [
    {
     "data": {
      "text/plain": [
       "['ถ้าเราเจอกันอีก (Until Then)',\n",
       " \"It's Gonna Be OK\",\n",
       " 'Tilly Birds',\n",
       " '2021-11-25',\n",
       " 288250,\n",
       " 58,\n",
       " 0.496,\n",
       " 0.481,\n",
       " 0.512,\n",
       " 0,\n",
       " 0.157,\n",
       " -6.365,\n",
       " 0.026,\n",
       " 75.876,\n",
       " 4]"
      ]
     },
     "execution_count": 31,
     "metadata": {},
     "output_type": "execute_result"
    }
   ],
   "source": [
    "# Audio analysis\n",
    "track_info = sp.track(\"https://open.spotify.com/track/3crZQarcOagdupRZNzRGWe?si=e104f22102224f97\")\n",
    "track_features = sp.audio_features(\"https://open.spotify.com/track/3crZQarcOagdupRZNzRGWe?si=e104f22102224f97\")\n",
    "\n",
    "name = track_info['name']\n",
    "album = track_info['album']['name']\n",
    "artist = track_info['album']['artists'][0]['name']\n",
    "release_date = track_info['album']['release_date']\n",
    "length = track_info['duration_ms']\n",
    "popularity = track_info['popularity']\n",
    "\n",
    "acousticness = track_features[0]['acousticness']\n",
    "danceability = track_features[0]['danceability']\n",
    "energy = track_features[0]['energy']\n",
    "instrumentalness = track_features[0]['instrumentalness']\n",
    "liveness = track_features[0]['liveness']\n",
    "loudness = track_features[0]['loudness']\n",
    "speechiness = track_features[0]['speechiness']\n",
    "tempo = track_features[0]['tempo']\n",
    "time_signature = track_features[0]['time_signature']\n",
    "\n",
    "track = [name, album, artist, release_date, length, popularity, acousticness, danceability, \n",
    "         energy, instrumentalness, liveness, loudness, speechiness,tempo, time_signature]\n",
    "\n",
    "track"
   ]
  },
  {
   "cell_type": "code",
   "execution_count": 32,
   "metadata": {},
   "outputs": [
    {
     "data": {
      "text/html": [
       "<div>\n",
       "<style scoped>\n",
       "    .dataframe tbody tr th:only-of-type {\n",
       "        vertical-align: middle;\n",
       "    }\n",
       "\n",
       "    .dataframe tbody tr th {\n",
       "        vertical-align: top;\n",
       "    }\n",
       "\n",
       "    .dataframe thead th {\n",
       "        text-align: right;\n",
       "    }\n",
       "</style>\n",
       "<table border=\"1\" class=\"dataframe\">\n",
       "  <thead>\n",
       "    <tr style=\"text-align: right;\">\n",
       "      <th></th>\n",
       "      <th>name</th>\n",
       "      <th>album</th>\n",
       "      <th>artist</th>\n",
       "      <th>release_date</th>\n",
       "      <th>length</th>\n",
       "      <th>popularity</th>\n",
       "      <th>acousticness</th>\n",
       "      <th>danceability</th>\n",
       "      <th>energy</th>\n",
       "      <th>instrumentalness</th>\n",
       "      <th>liveness</th>\n",
       "      <th>loudness</th>\n",
       "      <th>speechiness</th>\n",
       "      <th>tempo</th>\n",
       "      <th>time_signature</th>\n",
       "    </tr>\n",
       "  </thead>\n",
       "  <tbody>\n",
       "    <tr>\n",
       "      <th>0</th>\n",
       "      <td>ถ้าเราเจอกันอีก (Until Then)</td>\n",
       "      <td>It's Gonna Be OK</td>\n",
       "      <td>Tilly Birds</td>\n",
       "      <td>2021-11-25</td>\n",
       "      <td>288250</td>\n",
       "      <td>58</td>\n",
       "      <td>0.496</td>\n",
       "      <td>0.481</td>\n",
       "      <td>0.512</td>\n",
       "      <td>0</td>\n",
       "      <td>0.157</td>\n",
       "      <td>-6.365</td>\n",
       "      <td>0.026</td>\n",
       "      <td>75.876</td>\n",
       "      <td>4</td>\n",
       "    </tr>\n",
       "  </tbody>\n",
       "</table>\n",
       "</div>"
      ],
      "text/plain": [
       "                           name             album       artist release_date  \\\n",
       "0  ถ้าเราเจอกันอีก (Until Then)  It's Gonna Be OK  Tilly Birds   2021-11-25   \n",
       "\n",
       "   length  popularity  acousticness  danceability  energy  instrumentalness  \\\n",
       "0  288250          58         0.496         0.481   0.512                 0   \n",
       "\n",
       "   liveness  loudness  speechiness   tempo  time_signature  \n",
       "0     0.157    -6.365        0.026  75.876               4  "
      ]
     },
     "execution_count": 32,
     "metadata": {},
     "output_type": "execute_result"
    }
   ],
   "source": [
    "df = pd.DataFrame(track).T.values.tolist()\n",
    "dframe = pd.DataFrame(df, columns = ['name', 'album', 'artist', 'release_date', 'length', 'popularity', 'acousticness', 'danceability', \n",
    "         'energy', 'instrumentalness', 'liveness', 'loudness', 'speechiness', 'tempo', 'time_signature'])\n",
    "dframe"
   ]
  },
  {
   "cell_type": "code",
   "execution_count": 34,
   "metadata": {},
   "outputs": [
    {
     "data": {
      "text/html": [
       "<div>\n",
       "<style scoped>\n",
       "    .dataframe tbody tr th:only-of-type {\n",
       "        vertical-align: middle;\n",
       "    }\n",
       "\n",
       "    .dataframe tbody tr th {\n",
       "        vertical-align: top;\n",
       "    }\n",
       "\n",
       "    .dataframe thead th {\n",
       "        text-align: right;\n",
       "    }\n",
       "</style>\n",
       "<table border=\"1\" class=\"dataframe\">\n",
       "  <thead>\n",
       "    <tr style=\"text-align: right;\">\n",
       "      <th></th>\n",
       "      <th>name</th>\n",
       "      <th>album</th>\n",
       "      <th>artist</th>\n",
       "      <th>release_date</th>\n",
       "      <th>length</th>\n",
       "      <th>popularity</th>\n",
       "      <th>acousticness</th>\n",
       "      <th>danceability</th>\n",
       "      <th>energy</th>\n",
       "      <th>instrumentalness</th>\n",
       "      <th>liveness</th>\n",
       "      <th>loudness</th>\n",
       "      <th>speechiness</th>\n",
       "      <th>tempo</th>\n",
       "      <th>time_signature</th>\n",
       "    </tr>\n",
       "  </thead>\n",
       "  <tbody>\n",
       "    <tr>\n",
       "      <th>0</th>\n",
       "      <td>ช่วงเวลา</td>\n",
       "      <td>I'm 20</td>\n",
       "      <td>Zweed n' Roll</td>\n",
       "      <td>2018-05-28</td>\n",
       "      <td>317841</td>\n",
       "      <td>56</td>\n",
       "      <td>0.3870</td>\n",
       "      <td>0.441</td>\n",
       "      <td>0.489</td>\n",
       "      <td>0.000483</td>\n",
       "      <td>0.1010</td>\n",
       "      <td>-7.108</td>\n",
       "      <td>0.0274</td>\n",
       "      <td>169.965</td>\n",
       "      <td>3</td>\n",
       "    </tr>\n",
       "    <tr>\n",
       "      <th>1</th>\n",
       "      <td>ไม่รู้ทำไม</td>\n",
       "      <td>PAR-K</td>\n",
       "      <td>Whal &amp; Dolph</td>\n",
       "      <td>2019-02-14</td>\n",
       "      <td>289750</td>\n",
       "      <td>50</td>\n",
       "      <td>0.0504</td>\n",
       "      <td>0.622</td>\n",
       "      <td>0.679</td>\n",
       "      <td>0.000134</td>\n",
       "      <td>0.2730</td>\n",
       "      <td>-6.537</td>\n",
       "      <td>0.0273</td>\n",
       "      <td>110.030</td>\n",
       "      <td>4</td>\n",
       "    </tr>\n",
       "    <tr>\n",
       "      <th>2</th>\n",
       "      <td>หัวใจเจ้าเอย​ (Not Again)</td>\n",
       "      <td>หัวใจเจ้าเอย​ (Not Again)</td>\n",
       "      <td>Alyn Wee</td>\n",
       "      <td>2021-07-02</td>\n",
       "      <td>238116</td>\n",
       "      <td>60</td>\n",
       "      <td>0.4680</td>\n",
       "      <td>0.542</td>\n",
       "      <td>0.434</td>\n",
       "      <td>0.000061</td>\n",
       "      <td>0.0885</td>\n",
       "      <td>-9.396</td>\n",
       "      <td>0.0403</td>\n",
       "      <td>139.870</td>\n",
       "      <td>3</td>\n",
       "    </tr>\n",
       "    <tr>\n",
       "      <th>3</th>\n",
       "      <td>ลาก่อน</td>\n",
       "      <td>พบพา...ลาก่อน</td>\n",
       "      <td>YourMOOD</td>\n",
       "      <td>2023-11-03</td>\n",
       "      <td>188500</td>\n",
       "      <td>48</td>\n",
       "      <td>0.0175</td>\n",
       "      <td>0.563</td>\n",
       "      <td>0.852</td>\n",
       "      <td>0.001350</td>\n",
       "      <td>0.1080</td>\n",
       "      <td>-7.114</td>\n",
       "      <td>0.0319</td>\n",
       "      <td>135.012</td>\n",
       "      <td>4</td>\n",
       "    </tr>\n",
       "    <tr>\n",
       "      <th>4</th>\n",
       "      <td>ได้ไหม</td>\n",
       "      <td>Daydream Blue</td>\n",
       "      <td>fluffypak</td>\n",
       "      <td>2019-12-25</td>\n",
       "      <td>312812</td>\n",
       "      <td>47</td>\n",
       "      <td>0.1880</td>\n",
       "      <td>0.501</td>\n",
       "      <td>0.546</td>\n",
       "      <td>0.000005</td>\n",
       "      <td>0.1410</td>\n",
       "      <td>-7.969</td>\n",
       "      <td>0.0306</td>\n",
       "      <td>85.892</td>\n",
       "      <td>4</td>\n",
       "    </tr>\n",
       "  </tbody>\n",
       "</table>\n",
       "</div>"
      ],
      "text/plain": [
       "                        name                      album         artist  \\\n",
       "0                   ช่วงเวลา                     I'm 20  Zweed n' Roll   \n",
       "1                 ไม่รู้ทำไม                      PAR-K   Whal & Dolph   \n",
       "2  หัวใจเจ้าเอย​ (Not Again)  หัวใจเจ้าเอย​ (Not Again)       Alyn Wee   \n",
       "3                     ลาก่อน              พบพา...ลาก่อน       YourMOOD   \n",
       "4                     ได้ไหม              Daydream Blue      fluffypak   \n",
       "\n",
       "  release_date  length  popularity  acousticness  danceability  energy  \\\n",
       "0   2018-05-28  317841          56        0.3870         0.441   0.489   \n",
       "1   2019-02-14  289750          50        0.0504         0.622   0.679   \n",
       "2   2021-07-02  238116          60        0.4680         0.542   0.434   \n",
       "3   2023-11-03  188500          48        0.0175         0.563   0.852   \n",
       "4   2019-12-25  312812          47        0.1880         0.501   0.546   \n",
       "\n",
       "   instrumentalness  liveness  loudness  speechiness    tempo  time_signature  \n",
       "0          0.000483    0.1010    -7.108       0.0274  169.965               3  \n",
       "1          0.000134    0.2730    -6.537       0.0273  110.030               4  \n",
       "2          0.000061    0.0885    -9.396       0.0403  139.870               3  \n",
       "3          0.001350    0.1080    -7.114       0.0319  135.012               4  \n",
       "4          0.000005    0.1410    -7.969       0.0306   85.892               4  "
      ]
     },
     "execution_count": 34,
     "metadata": {},
     "output_type": "execute_result"
    }
   ],
   "source": [
    "# PLaylist Analysis\n",
    "\n",
    "def getTractIDs(user, id_playlist):\n",
    "    track_ids = []\n",
    "    album = sp.user_playlist(user,id_playlist)\n",
    "    for item in album['tracks']['items']:\n",
    "        track = item['track']\n",
    "        track_ids.append(track['id'])\n",
    "\n",
    "    return track_ids\n",
    "\n",
    "def getPlaylistFeatures(id):\n",
    "    track_info = sp.track(id)\n",
    "    track_features = sp.audio_features(id)\n",
    "\n",
    "    ## Track information\n",
    "    name = track_info['name']\n",
    "    album = track_info['album']['name']\n",
    "    artist = track_info['album']['artists'][0]['name']\n",
    "    release_date = track_info['album']['release_date']\n",
    "    length = track_info['duration_ms']\n",
    "    popularity = track_info['popularity']\n",
    "\n",
    "    ## Track Features\n",
    "    acousticness = track_features[0]['acousticness']\n",
    "    danceability = track_features[0]['danceability']\n",
    "    energy = track_features[0]['energy']\n",
    "    instrumentalness = track_features[0]['instrumentalness']\n",
    "    liveness = track_features[0]['liveness']\n",
    "    loudness = track_features[0]['loudness']\n",
    "    speechiness = track_features[0]['speechiness']\n",
    "    tempo = track_features[0]['tempo']\n",
    "    time_signature = track_features[0]['time_signature']\n",
    "    \n",
    "    track_data = [name, album, artist, release_date, length, popularity, acousticness, danceability, \n",
    "         energy, instrumentalness, liveness, loudness, speechiness,tempo, time_signature]\n",
    "    \n",
    "    return track_data\n",
    "    \n",
    "\n",
    "track_ids = getTractIDs('spotify', 'https://open.spotify.com/playlist/2GqLDP2qcVRudi5ZFW7Jwv?si=3574d72bc52a4aaa')\n",
    "tracks_list = []\n",
    "for i in range(len(track_ids)):\n",
    "    time.sleep(.3)\n",
    "    track_data = getPlaylistFeatures(track_ids[i])\n",
    "    tracks_list.append(track_data)\n",
    "\n",
    "info_playlist = pd.DataFrame(tracks_list, columns = ['name', 'album', 'artist', 'release_date', 'length', 'popularity', 'acousticness', 'danceability', \n",
    "         'energy', 'instrumentalness', 'liveness', 'loudness', 'speechiness', 'tempo', 'time_signature'])\n",
    "\n",
    "info_playlist.head()"
   ]
  },
  {
   "cell_type": "code",
   "execution_count": 38,
   "metadata": {},
   "outputs": [
    {
     "data": {
      "text/html": [
       "<div>\n",
       "<style scoped>\n",
       "    .dataframe tbody tr th:only-of-type {\n",
       "        vertical-align: middle;\n",
       "    }\n",
       "\n",
       "    .dataframe tbody tr th {\n",
       "        vertical-align: top;\n",
       "    }\n",
       "\n",
       "    .dataframe thead th {\n",
       "        text-align: right;\n",
       "    }\n",
       "</style>\n",
       "<table border=\"1\" class=\"dataframe\">\n",
       "  <thead>\n",
       "    <tr style=\"text-align: right;\">\n",
       "      <th></th>\n",
       "      <th>name</th>\n",
       "      <th>album</th>\n",
       "      <th>artist</th>\n",
       "      <th>release_date</th>\n",
       "      <th>length</th>\n",
       "      <th>popularity</th>\n",
       "      <th>acousticness</th>\n",
       "      <th>danceability</th>\n",
       "      <th>energy</th>\n",
       "      <th>instrumentalness</th>\n",
       "      <th>liveness</th>\n",
       "      <th>loudness</th>\n",
       "      <th>speechiness</th>\n",
       "      <th>tempo</th>\n",
       "      <th>time_signature</th>\n",
       "    </tr>\n",
       "  </thead>\n",
       "  <tbody>\n",
       "    <tr>\n",
       "      <th>48</th>\n",
       "      <td>ปล่อยดาว</td>\n",
       "      <td>ปล่อยดาว</td>\n",
       "      <td>YEW</td>\n",
       "      <td>2023-08-31</td>\n",
       "      <td>253412</td>\n",
       "      <td>65</td>\n",
       "      <td>0.035600</td>\n",
       "      <td>0.315</td>\n",
       "      <td>0.747</td>\n",
       "      <td>0.000169</td>\n",
       "      <td>0.1730</td>\n",
       "      <td>-6.022</td>\n",
       "      <td>0.0434</td>\n",
       "      <td>188.025</td>\n",
       "      <td>3</td>\n",
       "    </tr>\n",
       "    <tr>\n",
       "      <th>9</th>\n",
       "      <td>จากตรงนี้ที่(เคย)สวยงาม [La La Bye]</td>\n",
       "      <td>จากตรงนี้ที่(เคย)สวยงาม [La La Bye]</td>\n",
       "      <td>AYLA's</td>\n",
       "      <td>2023-01-20</td>\n",
       "      <td>288250</td>\n",
       "      <td>64</td>\n",
       "      <td>0.470000</td>\n",
       "      <td>0.605</td>\n",
       "      <td>0.452</td>\n",
       "      <td>0.000003</td>\n",
       "      <td>0.1240</td>\n",
       "      <td>-8.951</td>\n",
       "      <td>0.0264</td>\n",
       "      <td>140.027</td>\n",
       "      <td>4</td>\n",
       "    </tr>\n",
       "    <tr>\n",
       "      <th>93</th>\n",
       "      <td>อาจเป็นเพราะฉันเอง (me.)</td>\n",
       "      <td>อาจเป็นเพราะฉันเอง (me.)</td>\n",
       "      <td>PURPEECH</td>\n",
       "      <td>2023-04-05</td>\n",
       "      <td>283079</td>\n",
       "      <td>64</td>\n",
       "      <td>0.299000</td>\n",
       "      <td>0.571</td>\n",
       "      <td>0.562</td>\n",
       "      <td>0.000745</td>\n",
       "      <td>0.0668</td>\n",
       "      <td>-8.752</td>\n",
       "      <td>0.0312</td>\n",
       "      <td>78.059</td>\n",
       "      <td>4</td>\n",
       "    </tr>\n",
       "    <tr>\n",
       "      <th>13</th>\n",
       "      <td>เพลงรักในวันลา</td>\n",
       "      <td>เพลงรักในวันลา</td>\n",
       "      <td>Lower Mansion</td>\n",
       "      <td>2022-11-08</td>\n",
       "      <td>268941</td>\n",
       "      <td>63</td>\n",
       "      <td>0.522000</td>\n",
       "      <td>0.453</td>\n",
       "      <td>0.434</td>\n",
       "      <td>0.000003</td>\n",
       "      <td>0.5310</td>\n",
       "      <td>-6.854</td>\n",
       "      <td>0.0260</td>\n",
       "      <td>170.022</td>\n",
       "      <td>3</td>\n",
       "    </tr>\n",
       "    <tr>\n",
       "      <th>45</th>\n",
       "      <td>รสหวาน</td>\n",
       "      <td>ท้องฟ้าจำลอง</td>\n",
       "      <td>FREEHAND</td>\n",
       "      <td>2022-01-12</td>\n",
       "      <td>293784</td>\n",
       "      <td>63</td>\n",
       "      <td>0.000924</td>\n",
       "      <td>0.374</td>\n",
       "      <td>0.569</td>\n",
       "      <td>0.000025</td>\n",
       "      <td>0.0967</td>\n",
       "      <td>-7.456</td>\n",
       "      <td>0.0266</td>\n",
       "      <td>167.957</td>\n",
       "      <td>4</td>\n",
       "    </tr>\n",
       "    <tr>\n",
       "      <th>6</th>\n",
       "      <td>ลา ลา ลา</td>\n",
       "      <td>ลา ลา ลา</td>\n",
       "      <td>Dept</td>\n",
       "      <td>2019-11-04</td>\n",
       "      <td>253820</td>\n",
       "      <td>61</td>\n",
       "      <td>0.009980</td>\n",
       "      <td>0.394</td>\n",
       "      <td>0.719</td>\n",
       "      <td>0.000000</td>\n",
       "      <td>0.0528</td>\n",
       "      <td>-6.071</td>\n",
       "      <td>0.0259</td>\n",
       "      <td>178.005</td>\n",
       "      <td>3</td>\n",
       "    </tr>\n",
       "    <tr>\n",
       "      <th>2</th>\n",
       "      <td>หัวใจเจ้าเอย​ (Not Again)</td>\n",
       "      <td>หัวใจเจ้าเอย​ (Not Again)</td>\n",
       "      <td>Alyn Wee</td>\n",
       "      <td>2021-07-02</td>\n",
       "      <td>238116</td>\n",
       "      <td>60</td>\n",
       "      <td>0.468000</td>\n",
       "      <td>0.542</td>\n",
       "      <td>0.434</td>\n",
       "      <td>0.000061</td>\n",
       "      <td>0.0885</td>\n",
       "      <td>-9.396</td>\n",
       "      <td>0.0403</td>\n",
       "      <td>139.870</td>\n",
       "      <td>3</td>\n",
       "    </tr>\n",
       "  </tbody>\n",
       "</table>\n",
       "</div>"
      ],
      "text/plain": [
       "                                   name                                album  \\\n",
       "48                             ปล่อยดาว                             ปล่อยดาว   \n",
       "9   จากตรงนี้ที่(เคย)สวยงาม [La La Bye]  จากตรงนี้ที่(เคย)สวยงาม [La La Bye]   \n",
       "93             อาจเป็นเพราะฉันเอง (me.)             อาจเป็นเพราะฉันเอง (me.)   \n",
       "13                       เพลงรักในวันลา                       เพลงรักในวันลา   \n",
       "45                               รสหวาน                         ท้องฟ้าจำลอง   \n",
       "6                              ลา ลา ลา                             ลา ลา ลา   \n",
       "2             หัวใจเจ้าเอย​ (Not Again)            หัวใจเจ้าเอย​ (Not Again)   \n",
       "\n",
       "           artist release_date  length  popularity  acousticness  \\\n",
       "48            YEW   2023-08-31  253412          65      0.035600   \n",
       "9          AYLA's   2023-01-20  288250          64      0.470000   \n",
       "93       PURPEECH   2023-04-05  283079          64      0.299000   \n",
       "13  Lower Mansion   2022-11-08  268941          63      0.522000   \n",
       "45       FREEHAND   2022-01-12  293784          63      0.000924   \n",
       "6            Dept   2019-11-04  253820          61      0.009980   \n",
       "2        Alyn Wee   2021-07-02  238116          60      0.468000   \n",
       "\n",
       "    danceability  energy  instrumentalness  liveness  loudness  speechiness  \\\n",
       "48         0.315   0.747          0.000169    0.1730    -6.022       0.0434   \n",
       "9          0.605   0.452          0.000003    0.1240    -8.951       0.0264   \n",
       "93         0.571   0.562          0.000745    0.0668    -8.752       0.0312   \n",
       "13         0.453   0.434          0.000003    0.5310    -6.854       0.0260   \n",
       "45         0.374   0.569          0.000025    0.0967    -7.456       0.0266   \n",
       "6          0.394   0.719          0.000000    0.0528    -6.071       0.0259   \n",
       "2          0.542   0.434          0.000061    0.0885    -9.396       0.0403   \n",
       "\n",
       "      tempo  time_signature  \n",
       "48  188.025               3  \n",
       "9   140.027               4  \n",
       "93   78.059               4  \n",
       "13  170.022               3  \n",
       "45  167.957               4  \n",
       "6   178.005               3  \n",
       "2   139.870               3  "
      ]
     },
     "execution_count": 38,
     "metadata": {},
     "output_type": "execute_result"
    }
   ],
   "source": [
    "# High Popular\n",
    "high_popular = info_playlist.loc[lambda info_playlist: info_playlist['popularity'] >= 60].sort_values(by=['popularity'],ascending= False)\n",
    "\n",
    "high_popular"
   ]
  },
  {
   "cell_type": "code",
   "execution_count": 40,
   "metadata": {},
   "outputs": [
    {
     "data": {
      "text/html": [
       "<div>\n",
       "<style scoped>\n",
       "    .dataframe tbody tr th:only-of-type {\n",
       "        vertical-align: middle;\n",
       "    }\n",
       "\n",
       "    .dataframe tbody tr th {\n",
       "        vertical-align: top;\n",
       "    }\n",
       "\n",
       "    .dataframe thead th {\n",
       "        text-align: right;\n",
       "    }\n",
       "</style>\n",
       "<table border=\"1\" class=\"dataframe\">\n",
       "  <thead>\n",
       "    <tr style=\"text-align: right;\">\n",
       "      <th></th>\n",
       "      <th>name</th>\n",
       "      <th>album</th>\n",
       "      <th>artist</th>\n",
       "      <th>release_date</th>\n",
       "      <th>length</th>\n",
       "      <th>popularity</th>\n",
       "      <th>acousticness</th>\n",
       "      <th>danceability</th>\n",
       "      <th>energy</th>\n",
       "      <th>instrumentalness</th>\n",
       "      <th>liveness</th>\n",
       "      <th>loudness</th>\n",
       "      <th>speechiness</th>\n",
       "      <th>tempo</th>\n",
       "      <th>time_signature</th>\n",
       "    </tr>\n",
       "  </thead>\n",
       "  <tbody>\n",
       "    <tr>\n",
       "      <th>2</th>\n",
       "      <td>หัวใจเจ้าเอย​ (Not Again)</td>\n",
       "      <td>หัวใจเจ้าเอย​ (Not Again)</td>\n",
       "      <td>Alyn Wee</td>\n",
       "      <td>2021-07-02</td>\n",
       "      <td>238116</td>\n",
       "      <td>60</td>\n",
       "      <td>0.468</td>\n",
       "      <td>0.542</td>\n",
       "      <td>0.434</td>\n",
       "      <td>0.000061</td>\n",
       "      <td>0.0885</td>\n",
       "      <td>-9.396</td>\n",
       "      <td>0.0403</td>\n",
       "      <td>139.870</td>\n",
       "      <td>3</td>\n",
       "    </tr>\n",
       "    <tr>\n",
       "      <th>17</th>\n",
       "      <td>ถ้าเราเจอกันอีก (Until Then)</td>\n",
       "      <td>It's Gonna Be OK</td>\n",
       "      <td>Tilly Birds</td>\n",
       "      <td>2021-11-25</td>\n",
       "      <td>288250</td>\n",
       "      <td>58</td>\n",
       "      <td>0.496</td>\n",
       "      <td>0.481</td>\n",
       "      <td>0.512</td>\n",
       "      <td>0.000000</td>\n",
       "      <td>0.1570</td>\n",
       "      <td>-6.365</td>\n",
       "      <td>0.0260</td>\n",
       "      <td>75.876</td>\n",
       "      <td>4</td>\n",
       "    </tr>\n",
       "    <tr>\n",
       "      <th>40</th>\n",
       "      <td>ดอกไม้ไฟ</td>\n",
       "      <td>Q.E.D</td>\n",
       "      <td>Mirrr</td>\n",
       "      <td>2022-03-24</td>\n",
       "      <td>199384</td>\n",
       "      <td>58</td>\n",
       "      <td>0.382</td>\n",
       "      <td>0.768</td>\n",
       "      <td>0.758</td>\n",
       "      <td>0.000876</td>\n",
       "      <td>0.1870</td>\n",
       "      <td>-6.456</td>\n",
       "      <td>0.1860</td>\n",
       "      <td>130.028</td>\n",
       "      <td>4</td>\n",
       "    </tr>\n",
       "    <tr>\n",
       "      <th>52</th>\n",
       "      <td>ร้องไห้จนเบลอและเผลอลืมตัวเอง</td>\n",
       "      <td>ร้องไห้จนเบลอและเผลอลืมตัวเอง</td>\n",
       "      <td>เรนิษรา</td>\n",
       "      <td>2022-07-28</td>\n",
       "      <td>191066</td>\n",
       "      <td>57</td>\n",
       "      <td>0.537</td>\n",
       "      <td>0.646</td>\n",
       "      <td>0.744</td>\n",
       "      <td>0.000000</td>\n",
       "      <td>0.0935</td>\n",
       "      <td>-4.599</td>\n",
       "      <td>0.0406</td>\n",
       "      <td>91.992</td>\n",
       "      <td>4</td>\n",
       "    </tr>\n",
       "    <tr>\n",
       "      <th>97</th>\n",
       "      <td>ทุกความทรงจำ</td>\n",
       "      <td>Only Monday</td>\n",
       "      <td>Only Monday</td>\n",
       "      <td>2022-07-09</td>\n",
       "      <td>275624</td>\n",
       "      <td>57</td>\n",
       "      <td>0.028</td>\n",
       "      <td>0.495</td>\n",
       "      <td>0.732</td>\n",
       "      <td>0.000000</td>\n",
       "      <td>0.0989</td>\n",
       "      <td>-6.430</td>\n",
       "      <td>0.0333</td>\n",
       "      <td>79.985</td>\n",
       "      <td>4</td>\n",
       "    </tr>\n",
       "  </tbody>\n",
       "</table>\n",
       "</div>"
      ],
      "text/plain": [
       "                             name                          album       artist  \\\n",
       "2       หัวใจเจ้าเอย​ (Not Again)      หัวใจเจ้าเอย​ (Not Again)     Alyn Wee   \n",
       "17   ถ้าเราเจอกันอีก (Until Then)               It's Gonna Be OK  Tilly Birds   \n",
       "40                       ดอกไม้ไฟ                          Q.E.D        Mirrr   \n",
       "52  ร้องไห้จนเบลอและเผลอลืมตัวเอง  ร้องไห้จนเบลอและเผลอลืมตัวเอง      เรนิษรา   \n",
       "97                   ทุกความทรงจำ                    Only Monday  Only Monday   \n",
       "\n",
       "   release_date  length  popularity  acousticness  danceability  energy  \\\n",
       "2    2021-07-02  238116          60         0.468         0.542   0.434   \n",
       "17   2021-11-25  288250          58         0.496         0.481   0.512   \n",
       "40   2022-03-24  199384          58         0.382         0.768   0.758   \n",
       "52   2022-07-28  191066          57         0.537         0.646   0.744   \n",
       "97   2022-07-09  275624          57         0.028         0.495   0.732   \n",
       "\n",
       "    instrumentalness  liveness  loudness  speechiness    tempo  time_signature  \n",
       "2           0.000061    0.0885    -9.396       0.0403  139.870               3  \n",
       "17          0.000000    0.1570    -6.365       0.0260   75.876               4  \n",
       "40          0.000876    0.1870    -6.456       0.1860  130.028               4  \n",
       "52          0.000000    0.0935    -4.599       0.0406   91.992               4  \n",
       "97          0.000000    0.0989    -6.430       0.0333   79.985               4  "
      ]
     },
     "execution_count": 40,
     "metadata": {},
     "output_type": "execute_result"
    }
   ],
   "source": [
    "# Low popular\n",
    "\n",
    "low_popular = info_playlist.loc[lambda info_playlist: info_playlist['popularity'] <= 60].sort_values(by=['popularity'],ascending= False)\n",
    "\n",
    "low_popular.head()"
   ]
  },
  {
   "cell_type": "code",
   "execution_count": 41,
   "metadata": {},
   "outputs": [
    {
     "data": {
      "text/plain": [
       "name                 object\n",
       "album                object\n",
       "artist               object\n",
       "release_date         object\n",
       "length                int64\n",
       "popularity            int64\n",
       "acousticness        float64\n",
       "danceability        float64\n",
       "energy              float64\n",
       "instrumentalness    float64\n",
       "liveness            float64\n",
       "loudness            float64\n",
       "speechiness         float64\n",
       "tempo               float64\n",
       "time_signature        int64\n",
       "dtype: object"
      ]
     },
     "execution_count": 41,
     "metadata": {},
     "output_type": "execute_result"
    }
   ],
   "source": [
    "info_playlist.dtypes"
   ]
  },
  {
   "cell_type": "code",
   "execution_count": 42,
   "metadata": {},
   "outputs": [],
   "source": [
    "info_playlist.to_csv('info_playlist.csv')"
   ]
  },
  {
   "cell_type": "code",
   "execution_count": 43,
   "metadata": {},
   "outputs": [
    {
     "data": {
      "application/vnd.plotly.v1+json": {
       "config": {
        "plotlyServerURL": "https://plot.ly"
       },
       "data": [
        {
         "hovertemplate": "tempo=%{x}<br>danceability=%{y}<br>popularity=%{marker.color}<extra></extra>",
         "legendgroup": "",
         "marker": {
          "color": [
           56,
           50,
           60,
           48,
           47,
           49,
           61,
           54,
           50,
           64,
           47,
           43,
           53,
           63,
           41,
           51,
           54,
           58,
           53,
           38,
           57,
           47,
           51,
           47,
           48,
           54,
           45,
           44,
           37,
           55,
           50,
           38,
           20,
           39,
           30,
           53,
           53,
           57,
           36,
           40,
           58,
           49,
           53,
           43,
           51,
           63,
           56,
           22,
           65,
           52,
           46,
           41,
           57,
           47,
           57,
           40,
           37,
           47,
           46,
           53,
           0,
           46,
           38,
           39,
           37,
           41,
           36,
           38,
           31,
           36,
           41,
           50,
           53,
           29,
           29,
           0,
           49,
           37,
           39,
           51,
           57,
           32,
           50,
           29,
           27,
           31,
           46,
           31,
           34,
           42,
           27,
           50,
           35,
           64,
           45,
           26,
           44,
           57,
           55,
           48
          ],
          "coloraxis": "coloraxis",
          "size": [
           56,
           50,
           60,
           48,
           47,
           49,
           61,
           54,
           50,
           64,
           47,
           43,
           53,
           63,
           41,
           51,
           54,
           58,
           53,
           38,
           57,
           47,
           51,
           47,
           48,
           54,
           45,
           44,
           37,
           55,
           50,
           38,
           20,
           39,
           30,
           53,
           53,
           57,
           36,
           40,
           58,
           49,
           53,
           43,
           51,
           63,
           56,
           22,
           65,
           52,
           46,
           41,
           57,
           47,
           57,
           40,
           37,
           47,
           46,
           53,
           0,
           46,
           38,
           39,
           37,
           41,
           36,
           38,
           31,
           36,
           41,
           50,
           53,
           29,
           29,
           0,
           49,
           37,
           39,
           51,
           57,
           32,
           50,
           29,
           27,
           31,
           46,
           31,
           34,
           42,
           27,
           50,
           35,
           64,
           45,
           26,
           44,
           57,
           55,
           48
          ],
          "sizemode": "area",
          "sizeref": 0.1625,
          "symbol": "circle"
         },
         "mode": "markers",
         "name": "",
         "orientation": "v",
         "showlegend": false,
         "type": "scatter",
         "x": [
          169.965,
          110.03,
          139.87,
          135.012,
          85.892,
          114.034,
          178.005,
          90.061,
          76.975,
          140.027,
          179.859,
          175.942,
          73.963,
          170.022,
          76.003,
          95.885,
          169.61,
          75.876,
          179.437,
          102,
          141.554,
          86,
          167.517,
          136.033,
          64.008,
          145.953,
          142.15,
          91.002,
          189.909,
          183.185,
          139.915,
          140.096,
          156.053,
          175.882,
          75.009,
          145.917,
          152.057,
          160.057,
          131.941,
          153.938,
          130.028,
          144.027,
          158.066,
          147.948,
          175.964,
          167.957,
          75.017,
          64.985,
          188.025,
          159.991,
          154.006,
          121.949,
          91.992,
          185.69,
          183.972,
          142.034,
          149.882,
          142.002,
          75.005,
          145.946,
          160.003,
          120.01,
          184.314,
          91.992,
          94.999,
          179.97,
          140.01,
          175.885,
          63.971,
          130.047,
          120.008,
          74.926,
          156.034,
          147.918,
          163.987,
          170.002,
          149.951,
          142.105,
          90.003,
          179.969,
          140.024,
          143.894,
          116.586,
          96.891,
          127.933,
          150.207,
          83.032,
          104.954,
          140.983,
          167.99,
          117.029,
          140.001,
          175.946,
          78.059,
          113.047,
          89.015,
          66.666,
          79.985,
          135.955,
          179.829
         ],
         "xaxis": "x",
         "y": [
          0.441,
          0.622,
          0.542,
          0.563,
          0.501,
          0.58,
          0.394,
          0.579,
          0.324,
          0.605,
          0.413,
          0.547,
          0.527,
          0.453,
          0.646,
          0.554,
          0.231,
          0.481,
          0.422,
          0.529,
          0.473,
          0.577,
          0.505,
          0.653,
          0.433,
          0.615,
          0.513,
          0.592,
          0.483,
          0.314,
          0.58,
          0.523,
          0.492,
          0.294,
          0.441,
          0.499,
          0.546,
          0.412,
          0.552,
          0.397,
          0.768,
          0.509,
          0.661,
          0.574,
          0.42,
          0.374,
          0.608,
          0.455,
          0.315,
          0.5,
          0.515,
          0.604,
          0.646,
          0.428,
          0.405,
          0.609,
          0.546,
          0.295,
          0.525,
          0.538,
          0.331,
          0.57,
          0.317,
          0.58,
          0.573,
          0.307,
          0.552,
          0.465,
          0.377,
          0.729,
          0.564,
          0.388,
          0.504,
          0.576,
          0.426,
          0.515,
          0.322,
          0.463,
          0.584,
          0.405,
          0.475,
          0.558,
          0.474,
          0.537,
          0.642,
          0.381,
          0.371,
          0.53,
          0.735,
          0.602,
          0.671,
          0.622,
          0.375,
          0.571,
          0.608,
          0.633,
          0.238,
          0.495,
          0.579,
          0.522
         ],
         "yaxis": "y"
        }
       ],
       "layout": {
        "coloraxis": {
         "colorbar": {
          "title": {
           "text": "popularity"
          }
         },
         "colorscale": [
          [
           0,
           "#0d0887"
          ],
          [
           0.1111111111111111,
           "#46039f"
          ],
          [
           0.2222222222222222,
           "#7201a8"
          ],
          [
           0.3333333333333333,
           "#9c179e"
          ],
          [
           0.4444444444444444,
           "#bd3786"
          ],
          [
           0.5555555555555556,
           "#d8576b"
          ],
          [
           0.6666666666666666,
           "#ed7953"
          ],
          [
           0.7777777777777778,
           "#fb9f3a"
          ],
          [
           0.8888888888888888,
           "#fdca26"
          ],
          [
           1,
           "#f0f921"
          ]
         ]
        },
        "legend": {
         "itemsizing": "constant",
         "tracegroupgap": 0
        },
        "template": {
         "data": {
          "bar": [
           {
            "error_x": {
             "color": "#2a3f5f"
            },
            "error_y": {
             "color": "#2a3f5f"
            },
            "marker": {
             "line": {
              "color": "#E5ECF6",
              "width": 0.5
             },
             "pattern": {
              "fillmode": "overlay",
              "size": 10,
              "solidity": 0.2
             }
            },
            "type": "bar"
           }
          ],
          "barpolar": [
           {
            "marker": {
             "line": {
              "color": "#E5ECF6",
              "width": 0.5
             },
             "pattern": {
              "fillmode": "overlay",
              "size": 10,
              "solidity": 0.2
             }
            },
            "type": "barpolar"
           }
          ],
          "carpet": [
           {
            "aaxis": {
             "endlinecolor": "#2a3f5f",
             "gridcolor": "white",
             "linecolor": "white",
             "minorgridcolor": "white",
             "startlinecolor": "#2a3f5f"
            },
            "baxis": {
             "endlinecolor": "#2a3f5f",
             "gridcolor": "white",
             "linecolor": "white",
             "minorgridcolor": "white",
             "startlinecolor": "#2a3f5f"
            },
            "type": "carpet"
           }
          ],
          "choropleth": [
           {
            "colorbar": {
             "outlinewidth": 0,
             "ticks": ""
            },
            "type": "choropleth"
           }
          ],
          "contour": [
           {
            "colorbar": {
             "outlinewidth": 0,
             "ticks": ""
            },
            "colorscale": [
             [
              0,
              "#0d0887"
             ],
             [
              0.1111111111111111,
              "#46039f"
             ],
             [
              0.2222222222222222,
              "#7201a8"
             ],
             [
              0.3333333333333333,
              "#9c179e"
             ],
             [
              0.4444444444444444,
              "#bd3786"
             ],
             [
              0.5555555555555556,
              "#d8576b"
             ],
             [
              0.6666666666666666,
              "#ed7953"
             ],
             [
              0.7777777777777778,
              "#fb9f3a"
             ],
             [
              0.8888888888888888,
              "#fdca26"
             ],
             [
              1,
              "#f0f921"
             ]
            ],
            "type": "contour"
           }
          ],
          "contourcarpet": [
           {
            "colorbar": {
             "outlinewidth": 0,
             "ticks": ""
            },
            "type": "contourcarpet"
           }
          ],
          "heatmap": [
           {
            "colorbar": {
             "outlinewidth": 0,
             "ticks": ""
            },
            "colorscale": [
             [
              0,
              "#0d0887"
             ],
             [
              0.1111111111111111,
              "#46039f"
             ],
             [
              0.2222222222222222,
              "#7201a8"
             ],
             [
              0.3333333333333333,
              "#9c179e"
             ],
             [
              0.4444444444444444,
              "#bd3786"
             ],
             [
              0.5555555555555556,
              "#d8576b"
             ],
             [
              0.6666666666666666,
              "#ed7953"
             ],
             [
              0.7777777777777778,
              "#fb9f3a"
             ],
             [
              0.8888888888888888,
              "#fdca26"
             ],
             [
              1,
              "#f0f921"
             ]
            ],
            "type": "heatmap"
           }
          ],
          "heatmapgl": [
           {
            "colorbar": {
             "outlinewidth": 0,
             "ticks": ""
            },
            "colorscale": [
             [
              0,
              "#0d0887"
             ],
             [
              0.1111111111111111,
              "#46039f"
             ],
             [
              0.2222222222222222,
              "#7201a8"
             ],
             [
              0.3333333333333333,
              "#9c179e"
             ],
             [
              0.4444444444444444,
              "#bd3786"
             ],
             [
              0.5555555555555556,
              "#d8576b"
             ],
             [
              0.6666666666666666,
              "#ed7953"
             ],
             [
              0.7777777777777778,
              "#fb9f3a"
             ],
             [
              0.8888888888888888,
              "#fdca26"
             ],
             [
              1,
              "#f0f921"
             ]
            ],
            "type": "heatmapgl"
           }
          ],
          "histogram": [
           {
            "marker": {
             "pattern": {
              "fillmode": "overlay",
              "size": 10,
              "solidity": 0.2
             }
            },
            "type": "histogram"
           }
          ],
          "histogram2d": [
           {
            "colorbar": {
             "outlinewidth": 0,
             "ticks": ""
            },
            "colorscale": [
             [
              0,
              "#0d0887"
             ],
             [
              0.1111111111111111,
              "#46039f"
             ],
             [
              0.2222222222222222,
              "#7201a8"
             ],
             [
              0.3333333333333333,
              "#9c179e"
             ],
             [
              0.4444444444444444,
              "#bd3786"
             ],
             [
              0.5555555555555556,
              "#d8576b"
             ],
             [
              0.6666666666666666,
              "#ed7953"
             ],
             [
              0.7777777777777778,
              "#fb9f3a"
             ],
             [
              0.8888888888888888,
              "#fdca26"
             ],
             [
              1,
              "#f0f921"
             ]
            ],
            "type": "histogram2d"
           }
          ],
          "histogram2dcontour": [
           {
            "colorbar": {
             "outlinewidth": 0,
             "ticks": ""
            },
            "colorscale": [
             [
              0,
              "#0d0887"
             ],
             [
              0.1111111111111111,
              "#46039f"
             ],
             [
              0.2222222222222222,
              "#7201a8"
             ],
             [
              0.3333333333333333,
              "#9c179e"
             ],
             [
              0.4444444444444444,
              "#bd3786"
             ],
             [
              0.5555555555555556,
              "#d8576b"
             ],
             [
              0.6666666666666666,
              "#ed7953"
             ],
             [
              0.7777777777777778,
              "#fb9f3a"
             ],
             [
              0.8888888888888888,
              "#fdca26"
             ],
             [
              1,
              "#f0f921"
             ]
            ],
            "type": "histogram2dcontour"
           }
          ],
          "mesh3d": [
           {
            "colorbar": {
             "outlinewidth": 0,
             "ticks": ""
            },
            "type": "mesh3d"
           }
          ],
          "parcoords": [
           {
            "line": {
             "colorbar": {
              "outlinewidth": 0,
              "ticks": ""
             }
            },
            "type": "parcoords"
           }
          ],
          "pie": [
           {
            "automargin": true,
            "type": "pie"
           }
          ],
          "scatter": [
           {
            "fillpattern": {
             "fillmode": "overlay",
             "size": 10,
             "solidity": 0.2
            },
            "type": "scatter"
           }
          ],
          "scatter3d": [
           {
            "line": {
             "colorbar": {
              "outlinewidth": 0,
              "ticks": ""
             }
            },
            "marker": {
             "colorbar": {
              "outlinewidth": 0,
              "ticks": ""
             }
            },
            "type": "scatter3d"
           }
          ],
          "scattercarpet": [
           {
            "marker": {
             "colorbar": {
              "outlinewidth": 0,
              "ticks": ""
             }
            },
            "type": "scattercarpet"
           }
          ],
          "scattergeo": [
           {
            "marker": {
             "colorbar": {
              "outlinewidth": 0,
              "ticks": ""
             }
            },
            "type": "scattergeo"
           }
          ],
          "scattergl": [
           {
            "marker": {
             "colorbar": {
              "outlinewidth": 0,
              "ticks": ""
             }
            },
            "type": "scattergl"
           }
          ],
          "scattermapbox": [
           {
            "marker": {
             "colorbar": {
              "outlinewidth": 0,
              "ticks": ""
             }
            },
            "type": "scattermapbox"
           }
          ],
          "scatterpolar": [
           {
            "marker": {
             "colorbar": {
              "outlinewidth": 0,
              "ticks": ""
             }
            },
            "type": "scatterpolar"
           }
          ],
          "scatterpolargl": [
           {
            "marker": {
             "colorbar": {
              "outlinewidth": 0,
              "ticks": ""
             }
            },
            "type": "scatterpolargl"
           }
          ],
          "scatterternary": [
           {
            "marker": {
             "colorbar": {
              "outlinewidth": 0,
              "ticks": ""
             }
            },
            "type": "scatterternary"
           }
          ],
          "surface": [
           {
            "colorbar": {
             "outlinewidth": 0,
             "ticks": ""
            },
            "colorscale": [
             [
              0,
              "#0d0887"
             ],
             [
              0.1111111111111111,
              "#46039f"
             ],
             [
              0.2222222222222222,
              "#7201a8"
             ],
             [
              0.3333333333333333,
              "#9c179e"
             ],
             [
              0.4444444444444444,
              "#bd3786"
             ],
             [
              0.5555555555555556,
              "#d8576b"
             ],
             [
              0.6666666666666666,
              "#ed7953"
             ],
             [
              0.7777777777777778,
              "#fb9f3a"
             ],
             [
              0.8888888888888888,
              "#fdca26"
             ],
             [
              1,
              "#f0f921"
             ]
            ],
            "type": "surface"
           }
          ],
          "table": [
           {
            "cells": {
             "fill": {
              "color": "#EBF0F8"
             },
             "line": {
              "color": "white"
             }
            },
            "header": {
             "fill": {
              "color": "#C8D4E3"
             },
             "line": {
              "color": "white"
             }
            },
            "type": "table"
           }
          ]
         },
         "layout": {
          "annotationdefaults": {
           "arrowcolor": "#2a3f5f",
           "arrowhead": 0,
           "arrowwidth": 1
          },
          "autotypenumbers": "strict",
          "coloraxis": {
           "colorbar": {
            "outlinewidth": 0,
            "ticks": ""
           }
          },
          "colorscale": {
           "diverging": [
            [
             0,
             "#8e0152"
            ],
            [
             0.1,
             "#c51b7d"
            ],
            [
             0.2,
             "#de77ae"
            ],
            [
             0.3,
             "#f1b6da"
            ],
            [
             0.4,
             "#fde0ef"
            ],
            [
             0.5,
             "#f7f7f7"
            ],
            [
             0.6,
             "#e6f5d0"
            ],
            [
             0.7,
             "#b8e186"
            ],
            [
             0.8,
             "#7fbc41"
            ],
            [
             0.9,
             "#4d9221"
            ],
            [
             1,
             "#276419"
            ]
           ],
           "sequential": [
            [
             0,
             "#0d0887"
            ],
            [
             0.1111111111111111,
             "#46039f"
            ],
            [
             0.2222222222222222,
             "#7201a8"
            ],
            [
             0.3333333333333333,
             "#9c179e"
            ],
            [
             0.4444444444444444,
             "#bd3786"
            ],
            [
             0.5555555555555556,
             "#d8576b"
            ],
            [
             0.6666666666666666,
             "#ed7953"
            ],
            [
             0.7777777777777778,
             "#fb9f3a"
            ],
            [
             0.8888888888888888,
             "#fdca26"
            ],
            [
             1,
             "#f0f921"
            ]
           ],
           "sequentialminus": [
            [
             0,
             "#0d0887"
            ],
            [
             0.1111111111111111,
             "#46039f"
            ],
            [
             0.2222222222222222,
             "#7201a8"
            ],
            [
             0.3333333333333333,
             "#9c179e"
            ],
            [
             0.4444444444444444,
             "#bd3786"
            ],
            [
             0.5555555555555556,
             "#d8576b"
            ],
            [
             0.6666666666666666,
             "#ed7953"
            ],
            [
             0.7777777777777778,
             "#fb9f3a"
            ],
            [
             0.8888888888888888,
             "#fdca26"
            ],
            [
             1,
             "#f0f921"
            ]
           ]
          },
          "colorway": [
           "#636efa",
           "#EF553B",
           "#00cc96",
           "#ab63fa",
           "#FFA15A",
           "#19d3f3",
           "#FF6692",
           "#B6E880",
           "#FF97FF",
           "#FECB52"
          ],
          "font": {
           "color": "#2a3f5f"
          },
          "geo": {
           "bgcolor": "white",
           "lakecolor": "white",
           "landcolor": "#E5ECF6",
           "showlakes": true,
           "showland": true,
           "subunitcolor": "white"
          },
          "hoverlabel": {
           "align": "left"
          },
          "hovermode": "closest",
          "mapbox": {
           "style": "light"
          },
          "paper_bgcolor": "white",
          "plot_bgcolor": "#E5ECF6",
          "polar": {
           "angularaxis": {
            "gridcolor": "white",
            "linecolor": "white",
            "ticks": ""
           },
           "bgcolor": "#E5ECF6",
           "radialaxis": {
            "gridcolor": "white",
            "linecolor": "white",
            "ticks": ""
           }
          },
          "scene": {
           "xaxis": {
            "backgroundcolor": "#E5ECF6",
            "gridcolor": "white",
            "gridwidth": 2,
            "linecolor": "white",
            "showbackground": true,
            "ticks": "",
            "zerolinecolor": "white"
           },
           "yaxis": {
            "backgroundcolor": "#E5ECF6",
            "gridcolor": "white",
            "gridwidth": 2,
            "linecolor": "white",
            "showbackground": true,
            "ticks": "",
            "zerolinecolor": "white"
           },
           "zaxis": {
            "backgroundcolor": "#E5ECF6",
            "gridcolor": "white",
            "gridwidth": 2,
            "linecolor": "white",
            "showbackground": true,
            "ticks": "",
            "zerolinecolor": "white"
           }
          },
          "shapedefaults": {
           "line": {
            "color": "#2a3f5f"
           }
          },
          "ternary": {
           "aaxis": {
            "gridcolor": "white",
            "linecolor": "white",
            "ticks": ""
           },
           "baxis": {
            "gridcolor": "white",
            "linecolor": "white",
            "ticks": ""
           },
           "bgcolor": "#E5ECF6",
           "caxis": {
            "gridcolor": "white",
            "linecolor": "white",
            "ticks": ""
           }
          },
          "title": {
           "x": 0.05
          },
          "xaxis": {
           "automargin": true,
           "gridcolor": "white",
           "linecolor": "white",
           "ticks": "",
           "title": {
            "standoff": 15
           },
           "zerolinecolor": "white",
           "zerolinewidth": 2
          },
          "yaxis": {
           "automargin": true,
           "gridcolor": "white",
           "linecolor": "white",
           "ticks": "",
           "title": {
            "standoff": 15
           },
           "zerolinecolor": "white",
           "zerolinewidth": 2
          }
         }
        },
        "title": {
         "text": "Scatter Plot of Popular Songs using Tempo against Danceability"
        },
        "xaxis": {
         "anchor": "y",
         "domain": [
          0,
          1
         ],
         "title": {
          "text": "tempo"
         }
        },
        "yaxis": {
         "anchor": "x",
         "domain": [
          0,
          1
         ],
         "title": {
          "text": "danceability"
         }
        }
       }
      }
     },
     "metadata": {},
     "output_type": "display_data"
    }
   ],
   "source": [
    "# Data visualization\n",
    "import plotly_express as px\n",
    "\n",
    "sctplot = px.scatter(info_playlist, x = info_playlist['tempo'], y = info_playlist['danceability'],\n",
    "                     color=info_playlist['popularity'],size=info_playlist['popularity'],\n",
    "                     title = 'Scatter Plot of Popular Songs using Tempo against Danceability')\n",
    "\n",
    "sctplot.show()"
   ]
  },
  {
   "cell_type": "code",
   "execution_count": 47,
   "metadata": {},
   "outputs": [
    {
     "data": {
      "application/vnd.plotly.v1+json": {
       "config": {
        "plotlyServerURL": "https://plot.ly"
       },
       "data": [
        {
         "domain": {
          "x": [
           0,
           1
          ],
          "y": [
           0,
           1
          ]
         },
         "hovertemplate": "artist=%{label}<br>popularity=%{value}<extra></extra>",
         "labels": [
          "YEW",
          "AYLA's",
          "PURPEECH",
          "Lower Mansion",
          "FREEHAND",
          "Dept",
          "Alyn Wee",
          "Mirrr",
          "Tilly Birds",
          "Only Monday",
          "tinn",
          "Only Monday",
          "Dept",
          "เรนิษรา",
          "Safeplanet",
          "Zweed n' Roll",
          "Anatomy Rabbit",
          "lostbeans",
          "Polycat"
         ],
         "legendgroup": "",
         "name": "",
         "showlegend": true,
         "textinfo": "percent+label",
         "textposition": "inside",
         "type": "pie",
         "values": [
          65,
          64,
          64,
          63,
          63,
          61,
          60,
          58,
          58,
          57,
          57,
          57,
          57,
          57,
          57,
          56,
          56,
          55,
          55
         ]
        }
       ],
       "layout": {
        "legend": {
         "tracegroupgap": 0
        },
        "template": {
         "data": {
          "bar": [
           {
            "error_x": {
             "color": "#2a3f5f"
            },
            "error_y": {
             "color": "#2a3f5f"
            },
            "marker": {
             "line": {
              "color": "#E5ECF6",
              "width": 0.5
             },
             "pattern": {
              "fillmode": "overlay",
              "size": 10,
              "solidity": 0.2
             }
            },
            "type": "bar"
           }
          ],
          "barpolar": [
           {
            "marker": {
             "line": {
              "color": "#E5ECF6",
              "width": 0.5
             },
             "pattern": {
              "fillmode": "overlay",
              "size": 10,
              "solidity": 0.2
             }
            },
            "type": "barpolar"
           }
          ],
          "carpet": [
           {
            "aaxis": {
             "endlinecolor": "#2a3f5f",
             "gridcolor": "white",
             "linecolor": "white",
             "minorgridcolor": "white",
             "startlinecolor": "#2a3f5f"
            },
            "baxis": {
             "endlinecolor": "#2a3f5f",
             "gridcolor": "white",
             "linecolor": "white",
             "minorgridcolor": "white",
             "startlinecolor": "#2a3f5f"
            },
            "type": "carpet"
           }
          ],
          "choropleth": [
           {
            "colorbar": {
             "outlinewidth": 0,
             "ticks": ""
            },
            "type": "choropleth"
           }
          ],
          "contour": [
           {
            "colorbar": {
             "outlinewidth": 0,
             "ticks": ""
            },
            "colorscale": [
             [
              0,
              "#0d0887"
             ],
             [
              0.1111111111111111,
              "#46039f"
             ],
             [
              0.2222222222222222,
              "#7201a8"
             ],
             [
              0.3333333333333333,
              "#9c179e"
             ],
             [
              0.4444444444444444,
              "#bd3786"
             ],
             [
              0.5555555555555556,
              "#d8576b"
             ],
             [
              0.6666666666666666,
              "#ed7953"
             ],
             [
              0.7777777777777778,
              "#fb9f3a"
             ],
             [
              0.8888888888888888,
              "#fdca26"
             ],
             [
              1,
              "#f0f921"
             ]
            ],
            "type": "contour"
           }
          ],
          "contourcarpet": [
           {
            "colorbar": {
             "outlinewidth": 0,
             "ticks": ""
            },
            "type": "contourcarpet"
           }
          ],
          "heatmap": [
           {
            "colorbar": {
             "outlinewidth": 0,
             "ticks": ""
            },
            "colorscale": [
             [
              0,
              "#0d0887"
             ],
             [
              0.1111111111111111,
              "#46039f"
             ],
             [
              0.2222222222222222,
              "#7201a8"
             ],
             [
              0.3333333333333333,
              "#9c179e"
             ],
             [
              0.4444444444444444,
              "#bd3786"
             ],
             [
              0.5555555555555556,
              "#d8576b"
             ],
             [
              0.6666666666666666,
              "#ed7953"
             ],
             [
              0.7777777777777778,
              "#fb9f3a"
             ],
             [
              0.8888888888888888,
              "#fdca26"
             ],
             [
              1,
              "#f0f921"
             ]
            ],
            "type": "heatmap"
           }
          ],
          "heatmapgl": [
           {
            "colorbar": {
             "outlinewidth": 0,
             "ticks": ""
            },
            "colorscale": [
             [
              0,
              "#0d0887"
             ],
             [
              0.1111111111111111,
              "#46039f"
             ],
             [
              0.2222222222222222,
              "#7201a8"
             ],
             [
              0.3333333333333333,
              "#9c179e"
             ],
             [
              0.4444444444444444,
              "#bd3786"
             ],
             [
              0.5555555555555556,
              "#d8576b"
             ],
             [
              0.6666666666666666,
              "#ed7953"
             ],
             [
              0.7777777777777778,
              "#fb9f3a"
             ],
             [
              0.8888888888888888,
              "#fdca26"
             ],
             [
              1,
              "#f0f921"
             ]
            ],
            "type": "heatmapgl"
           }
          ],
          "histogram": [
           {
            "marker": {
             "pattern": {
              "fillmode": "overlay",
              "size": 10,
              "solidity": 0.2
             }
            },
            "type": "histogram"
           }
          ],
          "histogram2d": [
           {
            "colorbar": {
             "outlinewidth": 0,
             "ticks": ""
            },
            "colorscale": [
             [
              0,
              "#0d0887"
             ],
             [
              0.1111111111111111,
              "#46039f"
             ],
             [
              0.2222222222222222,
              "#7201a8"
             ],
             [
              0.3333333333333333,
              "#9c179e"
             ],
             [
              0.4444444444444444,
              "#bd3786"
             ],
             [
              0.5555555555555556,
              "#d8576b"
             ],
             [
              0.6666666666666666,
              "#ed7953"
             ],
             [
              0.7777777777777778,
              "#fb9f3a"
             ],
             [
              0.8888888888888888,
              "#fdca26"
             ],
             [
              1,
              "#f0f921"
             ]
            ],
            "type": "histogram2d"
           }
          ],
          "histogram2dcontour": [
           {
            "colorbar": {
             "outlinewidth": 0,
             "ticks": ""
            },
            "colorscale": [
             [
              0,
              "#0d0887"
             ],
             [
              0.1111111111111111,
              "#46039f"
             ],
             [
              0.2222222222222222,
              "#7201a8"
             ],
             [
              0.3333333333333333,
              "#9c179e"
             ],
             [
              0.4444444444444444,
              "#bd3786"
             ],
             [
              0.5555555555555556,
              "#d8576b"
             ],
             [
              0.6666666666666666,
              "#ed7953"
             ],
             [
              0.7777777777777778,
              "#fb9f3a"
             ],
             [
              0.8888888888888888,
              "#fdca26"
             ],
             [
              1,
              "#f0f921"
             ]
            ],
            "type": "histogram2dcontour"
           }
          ],
          "mesh3d": [
           {
            "colorbar": {
             "outlinewidth": 0,
             "ticks": ""
            },
            "type": "mesh3d"
           }
          ],
          "parcoords": [
           {
            "line": {
             "colorbar": {
              "outlinewidth": 0,
              "ticks": ""
             }
            },
            "type": "parcoords"
           }
          ],
          "pie": [
           {
            "automargin": true,
            "type": "pie"
           }
          ],
          "scatter": [
           {
            "fillpattern": {
             "fillmode": "overlay",
             "size": 10,
             "solidity": 0.2
            },
            "type": "scatter"
           }
          ],
          "scatter3d": [
           {
            "line": {
             "colorbar": {
              "outlinewidth": 0,
              "ticks": ""
             }
            },
            "marker": {
             "colorbar": {
              "outlinewidth": 0,
              "ticks": ""
             }
            },
            "type": "scatter3d"
           }
          ],
          "scattercarpet": [
           {
            "marker": {
             "colorbar": {
              "outlinewidth": 0,
              "ticks": ""
             }
            },
            "type": "scattercarpet"
           }
          ],
          "scattergeo": [
           {
            "marker": {
             "colorbar": {
              "outlinewidth": 0,
              "ticks": ""
             }
            },
            "type": "scattergeo"
           }
          ],
          "scattergl": [
           {
            "marker": {
             "colorbar": {
              "outlinewidth": 0,
              "ticks": ""
             }
            },
            "type": "scattergl"
           }
          ],
          "scattermapbox": [
           {
            "marker": {
             "colorbar": {
              "outlinewidth": 0,
              "ticks": ""
             }
            },
            "type": "scattermapbox"
           }
          ],
          "scatterpolar": [
           {
            "marker": {
             "colorbar": {
              "outlinewidth": 0,
              "ticks": ""
             }
            },
            "type": "scatterpolar"
           }
          ],
          "scatterpolargl": [
           {
            "marker": {
             "colorbar": {
              "outlinewidth": 0,
              "ticks": ""
             }
            },
            "type": "scatterpolargl"
           }
          ],
          "scatterternary": [
           {
            "marker": {
             "colorbar": {
              "outlinewidth": 0,
              "ticks": ""
             }
            },
            "type": "scatterternary"
           }
          ],
          "surface": [
           {
            "colorbar": {
             "outlinewidth": 0,
             "ticks": ""
            },
            "colorscale": [
             [
              0,
              "#0d0887"
             ],
             [
              0.1111111111111111,
              "#46039f"
             ],
             [
              0.2222222222222222,
              "#7201a8"
             ],
             [
              0.3333333333333333,
              "#9c179e"
             ],
             [
              0.4444444444444444,
              "#bd3786"
             ],
             [
              0.5555555555555556,
              "#d8576b"
             ],
             [
              0.6666666666666666,
              "#ed7953"
             ],
             [
              0.7777777777777778,
              "#fb9f3a"
             ],
             [
              0.8888888888888888,
              "#fdca26"
             ],
             [
              1,
              "#f0f921"
             ]
            ],
            "type": "surface"
           }
          ],
          "table": [
           {
            "cells": {
             "fill": {
              "color": "#EBF0F8"
             },
             "line": {
              "color": "white"
             }
            },
            "header": {
             "fill": {
              "color": "#C8D4E3"
             },
             "line": {
              "color": "white"
             }
            },
            "type": "table"
           }
          ]
         },
         "layout": {
          "annotationdefaults": {
           "arrowcolor": "#2a3f5f",
           "arrowhead": 0,
           "arrowwidth": 1
          },
          "autotypenumbers": "strict",
          "coloraxis": {
           "colorbar": {
            "outlinewidth": 0,
            "ticks": ""
           }
          },
          "colorscale": {
           "diverging": [
            [
             0,
             "#8e0152"
            ],
            [
             0.1,
             "#c51b7d"
            ],
            [
             0.2,
             "#de77ae"
            ],
            [
             0.3,
             "#f1b6da"
            ],
            [
             0.4,
             "#fde0ef"
            ],
            [
             0.5,
             "#f7f7f7"
            ],
            [
             0.6,
             "#e6f5d0"
            ],
            [
             0.7,
             "#b8e186"
            ],
            [
             0.8,
             "#7fbc41"
            ],
            [
             0.9,
             "#4d9221"
            ],
            [
             1,
             "#276419"
            ]
           ],
           "sequential": [
            [
             0,
             "#0d0887"
            ],
            [
             0.1111111111111111,
             "#46039f"
            ],
            [
             0.2222222222222222,
             "#7201a8"
            ],
            [
             0.3333333333333333,
             "#9c179e"
            ],
            [
             0.4444444444444444,
             "#bd3786"
            ],
            [
             0.5555555555555556,
             "#d8576b"
            ],
            [
             0.6666666666666666,
             "#ed7953"
            ],
            [
             0.7777777777777778,
             "#fb9f3a"
            ],
            [
             0.8888888888888888,
             "#fdca26"
            ],
            [
             1,
             "#f0f921"
            ]
           ],
           "sequentialminus": [
            [
             0,
             "#0d0887"
            ],
            [
             0.1111111111111111,
             "#46039f"
            ],
            [
             0.2222222222222222,
             "#7201a8"
            ],
            [
             0.3333333333333333,
             "#9c179e"
            ],
            [
             0.4444444444444444,
             "#bd3786"
            ],
            [
             0.5555555555555556,
             "#d8576b"
            ],
            [
             0.6666666666666666,
             "#ed7953"
            ],
            [
             0.7777777777777778,
             "#fb9f3a"
            ],
            [
             0.8888888888888888,
             "#fdca26"
            ],
            [
             1,
             "#f0f921"
            ]
           ]
          },
          "colorway": [
           "#636efa",
           "#EF553B",
           "#00cc96",
           "#ab63fa",
           "#FFA15A",
           "#19d3f3",
           "#FF6692",
           "#B6E880",
           "#FF97FF",
           "#FECB52"
          ],
          "font": {
           "color": "#2a3f5f"
          },
          "geo": {
           "bgcolor": "white",
           "lakecolor": "white",
           "landcolor": "#E5ECF6",
           "showlakes": true,
           "showland": true,
           "subunitcolor": "white"
          },
          "hoverlabel": {
           "align": "left"
          },
          "hovermode": "closest",
          "mapbox": {
           "style": "light"
          },
          "paper_bgcolor": "white",
          "plot_bgcolor": "#E5ECF6",
          "polar": {
           "angularaxis": {
            "gridcolor": "white",
            "linecolor": "white",
            "ticks": ""
           },
           "bgcolor": "#E5ECF6",
           "radialaxis": {
            "gridcolor": "white",
            "linecolor": "white",
            "ticks": ""
           }
          },
          "scene": {
           "xaxis": {
            "backgroundcolor": "#E5ECF6",
            "gridcolor": "white",
            "gridwidth": 2,
            "linecolor": "white",
            "showbackground": true,
            "ticks": "",
            "zerolinecolor": "white"
           },
           "yaxis": {
            "backgroundcolor": "#E5ECF6",
            "gridcolor": "white",
            "gridwidth": 2,
            "linecolor": "white",
            "showbackground": true,
            "ticks": "",
            "zerolinecolor": "white"
           },
           "zaxis": {
            "backgroundcolor": "#E5ECF6",
            "gridcolor": "white",
            "gridwidth": 2,
            "linecolor": "white",
            "showbackground": true,
            "ticks": "",
            "zerolinecolor": "white"
           }
          },
          "shapedefaults": {
           "line": {
            "color": "#2a3f5f"
           }
          },
          "ternary": {
           "aaxis": {
            "gridcolor": "white",
            "linecolor": "white",
            "ticks": ""
           },
           "baxis": {
            "gridcolor": "white",
            "linecolor": "white",
            "ticks": ""
           },
           "bgcolor": "#E5ECF6",
           "caxis": {
            "gridcolor": "white",
            "linecolor": "white",
            "ticks": ""
           }
          },
          "title": {
           "x": 0.05
          },
          "xaxis": {
           "automargin": true,
           "gridcolor": "white",
           "linecolor": "white",
           "ticks": "",
           "title": {
            "standoff": 15
           },
           "zerolinecolor": "white",
           "zerolinewidth": 2
          },
          "yaxis": {
           "automargin": true,
           "gridcolor": "white",
           "linecolor": "white",
           "ticks": "",
           "title": {
            "standoff": 15
           },
           "zerolinecolor": "white",
           "zerolinewidth": 2
          }
         }
        },
        "title": {
         "text": "Popularity of songs greater than 50 by artist in the playlist"
        }
       }
      }
     },
     "metadata": {},
     "output_type": "display_data"
    }
   ],
   "source": [
    "# Pie chart of top artist\n",
    "pop_55 = info_playlist.loc[lambda info_playlist: info_playlist['popularity'] >= 55].sort_values(by=['popularity'],ascending= False)\n",
    "fig = px.pie(pop_55, values='popularity', names='artist',\n",
    "             title='Popularity of songs greater than 50 by artist in the playlist')\n",
    "fig.update_traces(textposition = 'inside', textinfo = 'percent+label')\n",
    "\n",
    "fig.show()"
   ]
  },
  {
   "cell_type": "code",
   "execution_count": null,
   "metadata": {},
   "outputs": [],
   "source": []
  }
 ],
 "metadata": {
  "kernelspec": {
   "display_name": "Python 3",
   "language": "python",
   "name": "python3"
  },
  "language_info": {
   "codemirror_mode": {
    "name": "ipython",
    "version": 3
   },
   "file_extension": ".py",
   "mimetype": "text/x-python",
   "name": "python",
   "nbconvert_exporter": "python",
   "pygments_lexer": "ipython3",
   "version": "3.8.18"
  }
 },
 "nbformat": 4,
 "nbformat_minor": 2
}
